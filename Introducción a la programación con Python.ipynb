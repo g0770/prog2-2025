{
 "cells": [
  {
   "cell_type": "markdown",
   "metadata": {
    "id": "2-w-jJ7ka3A9"
   },
   "source": [
    "# Antes de comenzar\n",
    "## Para personalizar este cuaderno, es necesario que sigas las siguientes instrucciones:\n",
    "### 1 - Dirigite al menu 'Archivo' y luego selecciona 'Guardar una copia en Drive'\n",
    "### 2 - En la ventana emergente, selecciona 'Abrir en pestaña nueva'. Esto abrirá la copia de trabajo en una pestaña nueva.\n",
    "### 3 - En la nueva pestaña aparecerá la copia que permanecerá almacenada en tu cuenta de Google Drive. En este cuaderno podras hacer todos los cambios que desees."
   ]
  },
  {
   "cell_type": "markdown",
   "metadata": {
    "id": "QXUwG7KCgxCL",
    "jp-MarkdownHeadingCollapsed": true
   },
   "source": [
    "## Librerias"
   ]
  },
  {
   "cell_type": "code",
   "execution_count": 2,
   "metadata": {
    "executionInfo": {
     "elapsed": 3024,
     "status": "ok",
     "timestamp": 1744244275884,
     "user": {
      "displayName": "CEPEDA LEANDRO",
      "userId": "00282923289931954049"
     },
     "user_tz": 180
    },
    "id": "cZeGpEUOgwm7"
   },
   "outputs": [],
   "source": [
    "!pip install cowsay -q"
   ]
  },
  {
   "cell_type": "code",
   "execution_count": 3,
   "metadata": {
    "executionInfo": {
     "elapsed": 21,
     "status": "ok",
     "timestamp": 1744244288323,
     "user": {
      "displayName": "CEPEDA LEANDRO",
      "userId": "00282923289931954049"
     },
     "user_tz": 180
    },
    "id": "BUk2kmHQGXcY"
   },
   "outputs": [],
   "source": [
    "import cowsay"
   ]
  },
  {
   "cell_type": "code",
   "execution_count": 4,
   "metadata": {
    "colab": {
     "base_uri": "https://localhost:8080/"
    },
    "executionInfo": {
     "elapsed": 12,
     "status": "ok",
     "timestamp": 1744244294661,
     "user": {
      "displayName": "CEPEDA LEANDRO",
      "userId": "00282923289931954049"
     },
     "user_tz": 180
    },
    "id": "4l-IJSXvhCEY",
    "outputId": "69d02d62-5c62-4a6b-e178-7cc8696d431a"
   },
   "outputs": [
    {
     "name": "stdout",
     "output_type": "stream",
     "text": [
      "Esto es 'La Vaca dice' \n"
     ]
    }
   ],
   "source": [
    "print(\"Esto es 'La Vaca dice' \")"
   ]
  },
  {
   "cell_type": "code",
   "execution_count": 6,
   "metadata": {
    "colab": {
     "base_uri": "https://localhost:8080/"
    },
    "executionInfo": {
     "elapsed": 7762,
     "status": "ok",
     "timestamp": 1744244352004,
     "user": {
      "displayName": "CEPEDA LEANDRO",
      "userId": "00282923289931954049"
     },
     "user_tz": 180
    },
    "id": "R_qUnGcicDp3",
    "outputId": "55f1dae6-4d1b-4f3b-a635-e5621b1b43eb"
   },
   "outputs": [
    {
     "name": "stdout",
     "output_type": "stream",
     "text": [
      "Hola! ¿Cómo te llamás? Pepe perez\n"
     ]
    }
   ],
   "source": [
    "saludo = input(\"Hola! ¿Cómo te llamás? \")"
   ]
  },
  {
   "cell_type": "code",
   "execution_count": 7,
   "metadata": {
    "colab": {
     "base_uri": "https://localhost:8080/"
    },
    "executionInfo": {
     "elapsed": 11,
     "status": "ok",
     "timestamp": 1744244355516,
     "user": {
      "displayName": "CEPEDA LEANDRO",
      "userId": "00282923289931954049"
     },
     "user_tz": 180
    },
    "id": "PpRCD-vHHXuZ",
    "outputId": "9a189f4f-a523-41ef-dac0-6c55a4e8ef0d"
   },
   "outputs": [
    {
     "name": "stdout",
     "output_type": "stream",
     "text": [
      "  _______________\n",
      "| Hola Pepe perez |\n",
      "  ===============\n",
      "               \\\n",
      "                \\\n",
      "                  ^__^\n",
      "                  (oo)\\_______\n",
      "                  (__)\\       )\\/\\\n",
      "                      ||----w |\n",
      "                      ||     ||\n"
     ]
    }
   ],
   "source": [
    "cowsay.cow(f\"Hola {saludo}\")"
   ]
  },
  {
   "cell_type": "markdown",
   "metadata": {
    "id": "uRhT5W-30HN9"
   },
   "source": [
    "# Introducción a la programacion con Python\n",
    "\n",
    "### En esta notebook vamos a revisar los conceptos básicos de Python que necesitas para comprender fundamentos de progamación, tipos de datos y operaciones y seguir avanzando en desarrollo de programas."
   ]
  },
  {
   "cell_type": "markdown",
   "metadata": {
    "id": "THVxcadpstPm"
   },
   "source": [
    "I. Introducción a la programación con Python\n",
    "\n",
    "II. Tabla de Contenidos\n",
    "\n",
    "    I. Python\n",
    "\n",
    "III. IDEs\n",
    "\n",
    "        I. Thonny\n",
    "        II. Visual Studio Code\n",
    "        \n",
    "IV. Hola Jupyter!\n",
    "\n",
    "V. Variables y tipos de datos\n",
    "\n",
    "    I. Numéricos\n",
    "    II. Operaciones numéricas - Divisiones\n",
    "    III. Booleanos\n",
    "        I. Operaciones lógicas\n",
    "\n",
    "VI. Casos y distintas formas de aplicacion\n",
    "\n",
    "    I. Strings\n",
    "    II. Listas\n",
    "        I. Indexing y slicing en listas\n",
    "        II. Otras operaciones y métodos\n",
    "    III. Diccionarios\n",
    "    IV. Condicionales\n",
    "    V. Bucles o Loops\n",
    "        I. For loop\n",
    "        II. While loop\n",
    "\n",
    "VII. Funciones\n",
    "\n",
    "VIII. Montar unidad de Google Drive\n",
    "\n",
    "IX. Librerias"
   ]
  },
  {
   "cell_type": "markdown",
   "metadata": {
    "id": "Q2dA8rGqs3W2"
   },
   "source": [
    "## Python\n",
    "\n",
    "- Elegante, sencillo\n",
    "- Comunidad y accesibilidad\n",
    "- Desarrollos de estado del arte\n",
    "- Flexibilidad \"full stack\"\n",
    "- Multi-paradigma"
   ]
  },
  {
   "cell_type": "code",
   "execution_count": null,
   "metadata": {
    "id": "p0DoLbenduTz"
   },
   "outputs": [],
   "source": [
    "import this"
   ]
  },
  {
   "cell_type": "markdown",
   "metadata": {
    "id": "9EGBRANVWLOZ"
   },
   "source": [
    "#### El Zen de Python, por Tim Peters\n",
    "\n",
    "- Bello es mejor que feo.\n",
    "- Explícito es mejor que implícito.\n",
    "- Simple es mejor que complejo.\n",
    "- Complejo es mejor que complicado.\n",
    "- Plano es mejor que anidado.\n",
    "- Espaciado es mejor que denso.\n",
    "- La legibilidad es importante.\n",
    "- Los casos especiales no son lo suficientemente especiales como para romper las reglas.\n",
    "- Aunque la practicidad vence a la pureza.\n",
    "- Los errores nunca deberían pasar silenciosamente.\n",
    "- A menos que se silencien explícitamente.\n",
    "- Frente a la ambigüedad, rechaza la tentación de adivinar.\n",
    "- Debería haber una, y preferiblemente solo una, manera obvia de hacerlo.\n",
    "- Aunque esa manera puede no ser obvia al principio a menos que seas holandés.\n",
    "- Ahora es mejor que nunca.\n",
    "- Aunque nunca es a menudo mejor que *ahora* mismo.\n",
    "- Si la implementación es difícil de explicar, es una mala idea.\n",
    "- Si la implementación es fácil de explicar, puede ser una buena idea.\n",
    "- Los espacios de nombres son una gran idea, ¡hagamos más de esos!\n"
   ]
  },
  {
   "cell_type": "markdown",
   "metadata": {
    "id": "Vz4Yw-sOs8KQ"
   },
   "source": [
    "# IDEs"
   ]
  },
  {
   "cell_type": "markdown",
   "metadata": {
    "id": "ktX6kyDutBxt"
   },
   "source": [
    "<img src='https://thonny.org/img/screenshot.png'></img>"
   ]
  },
  {
   "cell_type": "markdown",
   "metadata": {
    "id": "K_JQyhH2tPMh"
   },
   "source": [
    "<img src='https://upload.wikimedia.org/wikipedia/commons/thumb/e/e5/Visual_studio_code_updated.png/1200px-Visual_studio_code_updated.png'></img>"
   ]
  },
  {
   "cell_type": "markdown",
   "metadata": {
    "id": "fON8gcU84tPL"
   },
   "source": [
    "### Variables\n",
    "\n",
    "### Las variables son contenedores que almacenan datos. Puedes usar variables para guardar información y trabajar con ella.\n",
    "\n",
    "Existen distintos tipos:\n",
    "\n",
    "- int: entero\n",
    "- float: punto flotante\n",
    "- string: cadena de caracteres\n",
    "- bool: booleano, 0, 1, True o False\n",
    "\n",
    "Y estructuras de datos, como:\n",
    "\n",
    "  - list: lista de elementos (de cualquier tipo, incluida otra lista)\n",
    "  - dict: \"diccionario\", conjunto de pares llave:valor\n",
    "  \n",
    "Veamos un primer ejemplo"
   ]
  },
  {
   "cell_type": "code",
   "execution_count": 8,
   "metadata": {
    "executionInfo": {
     "elapsed": 34,
     "status": "ok",
     "timestamp": 1744244476277,
     "user": {
      "displayName": "CEPEDA LEANDRO",
      "userId": "00282923289931954049"
     },
     "user_tz": 180
    },
    "id": "cmtKSlLFyVKi"
   },
   "outputs": [],
   "source": [
    "variable1 = \"naranja\"  # Esto es una variable de cadena (string)"
   ]
  },
  {
   "cell_type": "code",
   "execution_count": 3,
   "metadata": {
    "executionInfo": {
     "elapsed": 5,
     "status": "ok",
     "timestamp": 1744244482218,
     "user": {
      "displayName": "CEPEDA LEANDRO",
      "userId": "00282923289931954049"
     },
     "user_tz": 180
    },
    "id": "pidOR4AwI8tc"
   },
   "outputs": [],
   "source": [
    "variable2 = 5"
   ]
  },
  {
   "cell_type": "code",
   "execution_count": 4,
   "metadata": {
    "colab": {
     "base_uri": "https://localhost:8080/",
     "height": 162
    },
    "executionInfo": {
     "elapsed": 3769,
     "status": "error",
     "timestamp": 1744244545585,
     "user": {
      "displayName": "CEPEDA LEANDRO",
      "userId": "00282923289931954049"
     },
     "user_tz": 180
    },
    "id": "BnwjzCLdKFTN",
    "outputId": "1c025b16-1fcb-459f-930c-52714248a15d"
   },
   "outputs": [
    {
     "name": "stdin",
     "output_type": "stream",
     "text": [
      "Ingresá un numero:  34\n"
     ]
    }
   ],
   "source": [
    "variable3 = int(input(\"Ingresá un numero: \"))"
   ]
  },
  {
   "cell_type": "code",
   "execution_count": 5,
   "metadata": {
    "colab": {
     "base_uri": "https://localhost:8080/"
    },
    "executionInfo": {
     "elapsed": 46,
     "status": "ok",
     "timestamp": 1744244569086,
     "user": {
      "displayName": "CEPEDA LEANDRO",
      "userId": "00282923289931954049"
     },
     "user_tz": 180
    },
    "id": "vpFqGpszJwaj",
    "outputId": "cdc64d6f-5ec5-4916-fa82-5a59e61252e8"
   },
   "outputs": [
    {
     "name": "stdout",
     "output_type": "stream",
     "text": [
      "39\n"
     ]
    }
   ],
   "source": [
    "print(variable2 + variable3)"
   ]
  },
  {
   "cell_type": "markdown",
   "metadata": {
    "id": "pNpgUgq7uCgo"
   },
   "source": [
    "Declaramos una variable llamada *primera_variable* asignándole el valor de \"Hola mundo!\". La **función print** toma entre paréntesis esa variable y muestra el valor en pantalla."
   ]
  },
  {
   "cell_type": "code",
   "execution_count": 15,
   "metadata": {
    "colab": {
     "base_uri": "https://localhost:8080/"
    },
    "executionInfo": {
     "elapsed": 8,
     "status": "ok",
     "timestamp": 1744244579672,
     "user": {
      "displayName": "CEPEDA LEANDRO",
      "userId": "00282923289931954049"
     },
     "user_tz": 180
    },
    "id": "GjV-kHn5e4L4",
    "outputId": "d07e4545-496e-4332-8639-2560fa133cea"
   },
   "outputs": [
    {
     "name": "stdout",
     "output_type": "stream",
     "text": [
      "Hola Mundo!\n"
     ]
    }
   ],
   "source": [
    "print(\"Hola Mundo!\")"
   ]
  },
  {
   "cell_type": "markdown",
   "metadata": {
    "id": "wOXYgQyMvylY"
   },
   "source": [
    "Declaramos una variable llamada *input_de_usuario* que pedirá al usuario que ingrese un dato. *input_de_usuario* imprime el valor de la variable"
   ]
  },
  {
   "cell_type": "code",
   "execution_count": 16,
   "metadata": {
    "colab": {
     "base_uri": "https://localhost:8080/"
    },
    "executionInfo": {
     "elapsed": 7064,
     "status": "ok",
     "timestamp": 1744244606203,
     "user": {
      "displayName": "CEPEDA LEANDRO",
      "userId": "00282923289931954049"
     },
     "user_tz": 180
    },
    "id": "aRGXvGU_2UTx",
    "outputId": "73f0d41b-f790-4d7f-8d3f-cfa7cd02236c"
   },
   "outputs": [
    {
     "name": "stdout",
     "output_type": "stream",
     "text": [
      "Ingresá tu nombre: pepe perezz\n"
     ]
    }
   ],
   "source": [
    "nombre_usuario = input(\"Ingresá tu nombre: \") # Esto es una variable que recibe entrada del usuario"
   ]
  },
  {
   "cell_type": "code",
   "execution_count": 17,
   "metadata": {
    "colab": {
     "base_uri": "https://localhost:8080/"
    },
    "executionInfo": {
     "elapsed": 8,
     "status": "ok",
     "timestamp": 1744244609041,
     "user": {
      "displayName": "CEPEDA LEANDRO",
      "userId": "00282923289931954049"
     },
     "user_tz": 180
    },
    "id": "H-GYTWG3LekF",
    "outputId": "b255b403-328e-42f0-eba6-c91bfd8751ca"
   },
   "outputs": [
    {
     "name": "stdout",
     "output_type": "stream",
     "text": [
      "pepe perezz\n"
     ]
    }
   ],
   "source": [
    "#print(miVariable2)\n",
    "print(nombre_usuario)"
   ]
  },
  {
   "cell_type": "markdown",
   "metadata": {
    "id": "3UMx5-JVoXRM"
   },
   "source": [
    "# Definimos dos variables numéricas\n",
    "\n",
    "### Y analizamos distintas operaciones posibles entre ellas"
   ]
  },
  {
   "cell_type": "code",
   "execution_count": 18,
   "metadata": {
    "executionInfo": {
     "elapsed": 5,
     "status": "ok",
     "timestamp": 1744244617789,
     "user": {
      "displayName": "CEPEDA LEANDRO",
      "userId": "00282923289931954049"
     },
     "user_tz": 180
    },
    "id": "b15cXDq6objF"
   },
   "outputs": [],
   "source": [
    "x = 2"
   ]
  },
  {
   "cell_type": "code",
   "execution_count": 19,
   "metadata": {
    "executionInfo": {
     "elapsed": 5,
     "status": "ok",
     "timestamp": 1744244618701,
     "user": {
      "displayName": "CEPEDA LEANDRO",
      "userId": "00282923289931954049"
     },
     "user_tz": 180
    },
    "id": "q7s3q47IfTeI"
   },
   "outputs": [],
   "source": [
    "y = 10"
   ]
  },
  {
   "cell_type": "code",
   "execution_count": 20,
   "metadata": {
    "executionInfo": {
     "elapsed": 2,
     "status": "ok",
     "timestamp": 1744244623251,
     "user": {
      "displayName": "CEPEDA LEANDRO",
      "userId": "00282923289931954049"
     },
     "user_tz": 180
    },
    "id": "PXBLrOFzmuRI"
   },
   "outputs": [],
   "source": [
    "# Operaciones aritméticas\n",
    "suma = x + y  # Suma\n",
    "resta = x - y  # Resta\n",
    "multiplicacion = x * y  # Multiplicación\n",
    "division = x / y  # División\n",
    "division_entera = x // y  # División entera (descarta el residuo)\n",
    "resto = x % y  # Módulo (el resto de la división)\n",
    "\n",
    "# Operaciones de potenciación\n",
    "potencia = x ** 2  # Potencia (num1 elevado a la n)"
   ]
  },
  {
   "cell_type": "code",
   "execution_count": 21,
   "metadata": {
    "colab": {
     "base_uri": "https://localhost:8080/"
    },
    "executionInfo": {
     "elapsed": 20,
     "status": "ok",
     "timestamp": 1744244642609,
     "user": {
      "displayName": "CEPEDA LEANDRO",
      "userId": "00282923289931954049"
     },
     "user_tz": 180
    },
    "id": "4BnrtmGNfxLI",
    "outputId": "1c08f866-86ea-422e-df48-7e28c433892d"
   },
   "outputs": [
    {
     "name": "stdout",
     "output_type": "stream",
     "text": [
      "Suma: 12\n",
      "Resta: -8\n",
      "Multiplicación: 20\n",
      "División: 0.2\n",
      "División entera: 0\n",
      "Resto: 2\n",
      "Potencia: 4\n"
     ]
    }
   ],
   "source": [
    "# Imprimimos los resultados de las operaciones\n",
    "print(\"Suma:\", suma)\n",
    "print(\"Resta:\", resta)\n",
    "print(\"Multiplicación:\", multiplicacion)\n",
    "print(\"División:\", division)\n",
    "print(\"División entera:\", division_entera)\n",
    "print(\"Resto:\", resto)\n",
    "print(\"Potencia:\", potencia)"
   ]
  },
  {
   "cell_type": "markdown",
   "metadata": {
    "id": "KcRi280fw5fH"
   },
   "source": [
    "La **función** _type_ recibe de **argumento** una **variable** y **devuelve** su tipo"
   ]
  },
  {
   "cell_type": "code",
   "execution_count": 22,
   "metadata": {
    "colab": {
     "base_uri": "https://localhost:8080/"
    },
    "executionInfo": {
     "elapsed": 8,
     "status": "ok",
     "timestamp": 1744244649894,
     "user": {
      "displayName": "CEPEDA LEANDRO",
      "userId": "00282923289931954049"
     },
     "user_tz": 180
    },
    "id": "leYqwXfxw_GT",
    "outputId": "133b2989-f222-4900-dbee-2a674766ae72"
   },
   "outputs": [
    {
     "data": {
      "text/plain": [
       "(int, int)"
      ]
     },
     "execution_count": 22,
     "metadata": {},
     "output_type": "execute_result"
    }
   ],
   "source": [
    "type(x), type(y)"
   ]
  },
  {
   "cell_type": "code",
   "execution_count": 26,
   "metadata": {
    "colab": {
     "base_uri": "https://localhost:8080/"
    },
    "executionInfo": {
     "elapsed": 8,
     "status": "ok",
     "timestamp": 1744244683710,
     "user": {
      "displayName": "CEPEDA LEANDRO",
      "userId": "00282923289931954049"
     },
     "user_tz": 180
    },
    "id": "NMy9PreUM86w",
    "outputId": "6be8b494-190a-4660-d351-727fadafcc57"
   },
   "outputs": [
    {
     "data": {
      "text/plain": [
       "float"
      ]
     },
     "execution_count": 26,
     "metadata": {},
     "output_type": "execute_result"
    }
   ],
   "source": [
    "numero1 = 10.0\n",
    "type(numero1)"
   ]
  },
  {
   "cell_type": "code",
   "execution_count": 27,
   "metadata": {
    "colab": {
     "base_uri": "https://localhost:8080/"
    },
    "executionInfo": {
     "elapsed": 17,
     "status": "ok",
     "timestamp": 1744244686543,
     "user": {
      "displayName": "CEPEDA LEANDRO",
      "userId": "00282923289931954049"
     },
     "user_tz": 180
    },
    "id": "VmUqT2y5Mv5k",
    "outputId": "ac31bc81-a1a9-4d51-aa8a-96f1dce8ce0d"
   },
   "outputs": [
    {
     "data": {
      "text/plain": [
       "str"
      ]
     },
     "execution_count": 27,
     "metadata": {},
     "output_type": "execute_result"
    }
   ],
   "source": [
    "texto = \"Hola\"\n",
    "type(texto)"
   ]
  },
  {
   "cell_type": "markdown",
   "metadata": {
    "id": "Awu7iTF8xDof"
   },
   "source": [
    "Intentemos la siguiente suma..."
   ]
  },
  {
   "cell_type": "code",
   "execution_count": 28,
   "metadata": {
    "colab": {
     "base_uri": "https://localhost:8080/"
    },
    "executionInfo": {
     "elapsed": 13,
     "status": "ok",
     "timestamp": 1744244711803,
     "user": {
      "displayName": "CEPEDA LEANDRO",
      "userId": "00282923289931954049"
     },
     "user_tz": 180
    },
    "id": "YjSFauPnxGZ4",
    "outputId": "5f12f913-e7bc-4d1c-8e18-8ab93cc2d1c3"
   },
   "outputs": [
    {
     "data": {
      "text/plain": [
       "15"
      ]
     },
     "execution_count": 28,
     "metadata": {},
     "output_type": "execute_result"
    }
   ],
   "source": [
    "5 + int(\"10\")"
   ]
  },
  {
   "cell_type": "markdown",
   "metadata": {
    "id": "jQ6hDb1LxL-e"
   },
   "source": [
    "¿Qué paso?\n",
    "\n",
    "Si **convertimos** el string \"10\" a tipo int"
   ]
  },
  {
   "cell_type": "code",
   "execution_count": 29,
   "metadata": {
    "colab": {
     "base_uri": "https://localhost:8080/"
    },
    "executionInfo": {
     "elapsed": 7943,
     "status": "ok",
     "timestamp": 1744244781598,
     "user": {
      "displayName": "CEPEDA LEANDRO",
      "userId": "00282923289931954049"
     },
     "user_tz": 180
    },
    "id": "9K8o4IvQxTFg",
    "outputId": "5fa8ab99-b346-4b2e-fe56-7bf142a8a850"
   },
   "outputs": [
    {
     "name": "stdout",
     "output_type": "stream",
     "text": [
      "Ingresá tu edad: 34.6\n"
     ]
    }
   ],
   "source": [
    "edad_usuario = float(input(\"Ingresá tu edad: \"))"
   ]
  },
  {
   "cell_type": "code",
   "execution_count": 30,
   "metadata": {
    "colab": {
     "base_uri": "https://localhost:8080/"
    },
    "executionInfo": {
     "elapsed": 21,
     "status": "ok",
     "timestamp": 1744244785864,
     "user": {
      "displayName": "CEPEDA LEANDRO",
      "userId": "00282923289931954049"
     },
     "user_tz": 180
    },
    "id": "g2cy54CAPIKX",
    "outputId": "34cf291f-ba81-48c8-d998-ff9a6c6907aa"
   },
   "outputs": [
    {
     "data": {
      "text/plain": [
       "float"
      ]
     },
     "execution_count": 30,
     "metadata": {},
     "output_type": "execute_result"
    }
   ],
   "source": [
    "type(edad_usuario)"
   ]
  },
  {
   "cell_type": "markdown",
   "metadata": {
    "id": "qyNuCBWTi6Ma"
   },
   "source": [
    "[texto del enlace](https://)## En el siguiente codigo veremos variables booleanas, las cuales solo pueden contener dos valores ('True', 'False').\n",
    "###  Podes probar distintos operadores de comparación (==, !=, <, >, <=, >=) y analizar como fnciona el siguiente codigo:"
   ]
  },
  {
   "cell_type": "code",
   "execution_count": 31,
   "metadata": {
    "executionInfo": {
     "elapsed": 44,
     "status": "ok",
     "timestamp": 1744244821365,
     "user": {
      "displayName": "CEPEDA LEANDRO",
      "userId": "00282923289931954049"
     },
     "user_tz": 180
    },
    "id": "Iho4T0zEjSHG"
   },
   "outputs": [],
   "source": [
    "# Operaciones de comparación\n",
    "igual = x == y  # Igual a\n",
    "diferente = x != y  # Diferente de\n",
    "mayor = x > y  # Mayor que\n",
    "menor = x < y  # Menor que\n",
    "mayor_igual = x >= y  # Mayor o igual que\n",
    "menor_igual = x <= y  # Menor o igual que"
   ]
  },
  {
   "cell_type": "code",
   "execution_count": 32,
   "metadata": {
    "colab": {
     "base_uri": "https://localhost:8080/"
    },
    "collapsed": true,
    "executionInfo": {
     "elapsed": 8,
     "status": "ok",
     "timestamp": 1744244839170,
     "user": {
      "displayName": "CEPEDA LEANDRO",
      "userId": "00282923289931954049"
     },
     "user_tz": 180
    },
    "id": "i4azqP7_n_KU",
    "jupyter": {
     "outputs_hidden": true
    },
    "outputId": "ea9ef0ca-ff18-459d-faeb-668e41877f42"
   },
   "outputs": [
    {
     "name": "stdout",
     "output_type": "stream",
     "text": [
      "Igual a: False\n",
      "Diferente de: True\n",
      "Mayor que: False\n",
      "Menor que: True\n",
      "Mayor o igual que: False\n",
      "Menor o igual que: True\n"
     ]
    }
   ],
   "source": [
    "# Imprimimos los resultados de las operaciones\n",
    "print(\"Igual a:\", igual)\n",
    "print(\"Diferente de:\", diferente)\n",
    "print(\"Mayor que:\", mayor)\n",
    "print(\"Menor que:\", menor)\n",
    "print(\"Mayor o igual que:\", mayor_igual)\n",
    "print(\"Menor o igual que:\", menor_igual)"
   ]
  },
  {
   "cell_type": "code",
   "execution_count": 33,
   "metadata": {
    "colab": {
     "base_uri": "https://localhost:8080/"
    },
    "executionInfo": {
     "elapsed": 19,
     "status": "ok",
     "timestamp": 1744244855822,
     "user": {
      "displayName": "CEPEDA LEANDRO",
      "userId": "00282923289931954049"
     },
     "user_tz": 180
    },
    "id": "7xKp8qCmjavB",
    "outputId": "5a4f0123-e95d-47dc-ad53-d97fe040954d"
   },
   "outputs": [
    {
     "name": "stdout",
     "output_type": "stream",
     "text": [
      "El valor de X es: 2 .\n",
      "El valor de Y es: 10\n"
     ]
    }
   ],
   "source": [
    "print(\"El valor de X es:\", x, \".\")\n",
    "print(\"El valor de Y es:\", y)"
   ]
  },
  {
   "cell_type": "code",
   "execution_count": null,
   "metadata": {
    "colab": {
     "base_uri": "https://localhost:8080/"
    },
    "executionInfo": {
     "elapsed": 562,
     "status": "ok",
     "timestamp": 1731535595355,
     "user": {
      "displayName": "Matias Barreto (devenirfantasma)",
      "userId": "07072764524169679349"
     },
     "user_tz": 180
    },
    "id": "0O7zBoANj4zx",
    "outputId": "3ec8742d-2827-4394-840a-4f281860551e"
   },
   "outputs": [
    {
     "name": "stdout",
     "output_type": "stream",
     "text": [
      "El valor de X es: 2 y el valor de Y es: 10\n"
     ]
    }
   ],
   "source": [
    "print(f\"El valor de X es: {x} y el valor de Y es: {y}\")"
   ]
  },
  {
   "cell_type": "code",
   "execution_count": 36,
   "metadata": {
    "colab": {
     "base_uri": "https://localhost:8080/"
    },
    "executionInfo": {
     "elapsed": 7477,
     "status": "ok",
     "timestamp": 1744244965160,
     "user": {
      "displayName": "CEPEDA LEANDRO",
      "userId": "00282923289931954049"
     },
     "user_tz": 180
    },
    "id": "pbZ9vNAcWBNp",
    "outputId": "edbc680e-369d-44b1-e5ad-a8f8a3eb7db2"
   },
   "outputs": [
    {
     "name": "stdout",
     "output_type": "stream",
     "text": [
      "Ingrese un dato: uno\n"
     ]
    }
   ],
   "source": [
    "dato_usuario = input(\"Ingrese un dato: \")"
   ]
  },
  {
   "cell_type": "code",
   "execution_count": 41,
   "metadata": {
    "colab": {
     "base_uri": "https://localhost:8080/"
    },
    "executionInfo": {
     "elapsed": 9,
     "status": "ok",
     "timestamp": 1744245079936,
     "user": {
      "displayName": "CEPEDA LEANDRO",
      "userId": "00282923289931954049"
     },
     "user_tz": 180
    },
    "id": "CQtRg-2tWKod",
    "outputId": "4d037054-adaa-421b-ba43-f7cb39163fac"
   },
   "outputs": [
    {
     "name": "stdout",
     "output_type": "stream",
     "text": [
      "el dato ingresado es uno\n"
     ]
    }
   ],
   "source": [
    "if dato_usuario == \"uno\" or dato_usuario == \"1\":\n",
    "  print(\"el dato ingresado es uno\")\n",
    "else:\n",
    "  print(\"el dato ingresado no es uno\")"
   ]
  },
  {
   "cell_type": "code",
   "execution_count": 42,
   "metadata": {
    "colab": {
     "base_uri": "https://localhost:8080/"
    },
    "executionInfo": {
     "elapsed": 4203,
     "status": "ok",
     "timestamp": 1744245087429,
     "user": {
      "displayName": "CEPEDA LEANDRO",
      "userId": "00282923289931954049"
     },
     "user_tz": 180
    },
    "id": "fmSlBzF1k9K2",
    "outputId": "2c61ac70-d3bd-4293-c815-6ee7f1640e41"
   },
   "outputs": [
    {
     "name": "stdout",
     "output_type": "stream",
     "text": [
      "Ingresá un numero: 3\n",
      "Ingresá otro numero: 2\n"
     ]
    }
   ],
   "source": [
    "numero1 = float(input(\"Ingresá un numero: \"))\n",
    "numero2 = float(input(\"Ingresá otro numero: \"))"
   ]
  },
  {
   "cell_type": "code",
   "execution_count": 43,
   "metadata": {
    "colab": {
     "base_uri": "https://localhost:8080/"
    },
    "executionInfo": {
     "elapsed": 4996,
     "status": "ok",
     "timestamp": 1744245094410,
     "user": {
      "displayName": "CEPEDA LEANDRO",
      "userId": "00282923289931954049"
     },
     "user_tz": 180
    },
    "id": "862OAmVwldgo",
    "outputId": "e0729460-1ed1-46cc-d82f-165a67c8eea8"
   },
   "outputs": [
    {
     "name": "stdout",
     "output_type": "stream",
     "text": [
      "¿Qué operacion matematica queres hacer?\n",
      "                          1 (SUMA)\n",
      "                          2 (RESTA)\n",
      "                          2\n"
     ]
    }
   ],
   "source": [
    "operacion = int(input(\"\"\"¿Qué operacion matematica queres hacer?\n",
    "                          1 (SUMA)\n",
    "                          2 (RESTA)\n",
    "                          \"\"\"))"
   ]
  },
  {
   "cell_type": "code",
   "execution_count": 44,
   "metadata": {
    "colab": {
     "base_uri": "https://localhost:8080/"
    },
    "executionInfo": {
     "elapsed": 11,
     "status": "ok",
     "timestamp": 1744245097305,
     "user": {
      "displayName": "CEPEDA LEANDRO",
      "userId": "00282923289931954049"
     },
     "user_tz": 180
    },
    "id": "rCQVZbmFm3Ub",
    "outputId": "24c999dd-6132-4179-801b-aac01721bdde"
   },
   "outputs": [
    {
     "name": "stdout",
     "output_type": "stream",
     "text": [
      "El resultado de la resta de 3.0 y 2.0 es 1.0\n"
     ]
    }
   ],
   "source": [
    "if operacion == 1:\n",
    "  print(f\"El resultado de la suma de {numero1} y {numero2} es {numero1 + numero2}\")\n",
    "elif operacion == 2:\n",
    "  print(f\"El resultado de la resta de {numero1} y {numero2} es {numero1 - numero2}\")\n",
    "else:\n",
    "  print(\"Ingresaste una operacion no valida\")"
   ]
  },
  {
   "cell_type": "code",
   "execution_count": 47,
   "metadata": {
    "colab": {
     "base_uri": "https://localhost:8080/"
    },
    "executionInfo": {
     "elapsed": 11,
     "status": "ok",
     "timestamp": 1744245146304,
     "user": {
      "displayName": "CEPEDA LEANDRO",
      "userId": "00282923289931954049"
     },
     "user_tz": 180
    },
    "id": "2SmSO40cYCrU",
    "outputId": "191af574-aece-41db-efde-f1a3e6d5fa02"
   },
   "outputs": [
    {
     "name": "stdout",
     "output_type": "stream",
     "text": [
      "Help on built-in function print in module builtins:\n",
      "\n",
      "print(*args, sep=' ', end='\\n', file=None, flush=False)\n",
      "    Prints the values to a stream, or to sys.stdout by default.\n",
      "    \n",
      "    sep\n",
      "      string inserted between values, default a space.\n",
      "    end\n",
      "      string appended after the last value, default a newline.\n",
      "    file\n",
      "      a file-like object (stream); defaults to the current sys.stdout.\n",
      "    flush\n",
      "      whether to forcibly flush the stream.\n",
      "\n"
     ]
    }
   ],
   "source": [
    "help(print)"
   ]
  },
  {
   "cell_type": "code",
   "execution_count": 48,
   "metadata": {
    "colab": {
     "base_uri": "https://localhost:8080/",
     "height": 109
    },
    "executionInfo": {
     "elapsed": 12,
     "status": "error",
     "timestamp": 1744245210595,
     "user": {
      "displayName": "CEPEDA LEANDRO",
      "userId": "00282923289931954049"
     },
     "user_tz": 180
    },
    "id": "p2X14fAYYRRs",
    "outputId": "d50d128e-0106-45e8-c759-0ef386496459"
   },
   "outputs": [
    {
     "ename": "SyntaxError",
     "evalue": "invalid syntax (<ipython-input-48-eb586fe435d8>, line 1)",
     "output_type": "error",
     "traceback": [
      "\u001b[0;36m  File \u001b[0;32m\"<ipython-input-48-eb586fe435d8>\"\u001b[0;36m, line \u001b[0;32m1\u001b[0m\n\u001b[0;31m    print ?\u001b[0m\n\u001b[0m          ^\u001b[0m\n\u001b[0;31mSyntaxError\u001b[0m\u001b[0;31m:\u001b[0m invalid syntax\n"
     ]
    }
   ],
   "source": [
    "print ?"
   ]
  },
  {
   "cell_type": "markdown",
   "metadata": {
    "id": "NolH8GVByJ4h"
   },
   "source": [
    "## Strings <a name=\"section-4\"></a>"
   ]
  },
  {
   "cell_type": "code",
   "execution_count": 49,
   "metadata": {
    "colab": {
     "base_uri": "https://localhost:8080/",
     "height": 36
    },
    "executionInfo": {
     "elapsed": 41,
     "status": "ok",
     "timestamp": 1744245230692,
     "user": {
      "displayName": "CEPEDA LEANDRO",
      "userId": "00282923289931954049"
     },
     "user_tz": 180
    },
    "id": "-Mv9AbHCycO4",
    "outputId": "e34a310c-140d-48f4-b82c-1b4a0a93027b"
   },
   "outputs": [
    {
     "data": {
      "application/vnd.google.colaboratory.intrinsic+json": {
       "type": "string"
      },
      "text/plain": [
       "'dos strings se pueden concatenar'"
      ]
     },
     "execution_count": 49,
     "metadata": {},
     "output_type": "execute_result"
    }
   ],
   "source": [
    "\"dos strings se pueden \" + \"concatenar\""
   ]
  },
  {
   "cell_type": "code",
   "execution_count": 50,
   "metadata": {
    "colab": {
     "base_uri": "https://localhost:8080/"
    },
    "executionInfo": {
     "elapsed": 9,
     "status": "ok",
     "timestamp": 1744245258796,
     "user": {
      "displayName": "CEPEDA LEANDRO",
      "userId": "00282923289931954049"
     },
     "user_tz": 180
    },
    "id": "e9RG0IfjYosV",
    "outputId": "2a7b6010-afae-4b10-974f-7341a20ec328"
   },
   "outputs": [
    {
     "name": "stdout",
     "output_type": "stream",
     "text": [
      "dos strings se pueden concatenar\n"
     ]
    }
   ],
   "source": [
    "print(\"dos strings se pueden\", \"concatenar\")"
   ]
  },
  {
   "cell_type": "code",
   "execution_count": 51,
   "metadata": {
    "executionInfo": {
     "elapsed": 23,
     "status": "ok",
     "timestamp": 1744245265849,
     "user": {
      "displayName": "CEPEDA LEANDRO",
      "userId": "00282923289931954049"
     },
     "user_tz": 180
    },
    "id": "iWyyMELMZCEC"
   },
   "outputs": [],
   "source": [
    "a = 1"
   ]
  },
  {
   "cell_type": "code",
   "execution_count": 52,
   "metadata": {
    "executionInfo": {
     "elapsed": 6,
     "status": "ok",
     "timestamp": 1744245266613,
     "user": {
      "displayName": "CEPEDA LEANDRO",
      "userId": "00282923289931954049"
     },
     "user_tz": 180
    },
    "id": "Xl-4HsnzZEGp"
   },
   "outputs": [],
   "source": [
    "b = 2"
   ]
  },
  {
   "cell_type": "code",
   "execution_count": 53,
   "metadata": {
    "colab": {
     "base_uri": "https://localhost:8080/"
    },
    "executionInfo": {
     "elapsed": 8,
     "status": "ok",
     "timestamp": 1744245269308,
     "user": {
      "displayName": "CEPEDA LEANDRO",
      "userId": "00282923289931954049"
     },
     "user_tz": 180
    },
    "id": "5J8uaykiZGQv",
    "outputId": "b44bbff5-d221-4b76-d1f1-9748d07dcf79"
   },
   "outputs": [
    {
     "name": "stdout",
     "output_type": "stream",
     "text": [
      "<class 'int'>\n"
     ]
    }
   ],
   "source": [
    "print(type(a))"
   ]
  },
  {
   "cell_type": "markdown",
   "metadata": {
    "id": "jcq0Mm9ZykZa"
   },
   "source": [
    "Podemos acceder a ellos mediante **índices**. Los mismos funcionan para cualquier **iterable**, que es un objeto con muchos elementos que son accesibles secuencialmente. Podemos usar los índices para acceder a una posición determinada, pasándola entre corchetes [posición]. Es IMPORTANTE mencionar que en Python la primera posición tiene el índice 0 (y no 1)."
   ]
  },
  {
   "cell_type": "code",
   "execution_count": 57,
   "metadata": {
    "executionInfo": {
     "elapsed": 39,
     "status": "ok",
     "timestamp": 1744245348065,
     "user": {
      "displayName": "CEPEDA LEANDRO",
      "userId": "00282923289931954049"
     },
     "user_tz": 180
    },
    "id": "R2EeY3uByoGg"
   },
   "outputs": [],
   "source": [
    "texto = \"programación en python\""
   ]
  },
  {
   "cell_type": "code",
   "execution_count": 54,
   "metadata": {
    "colab": {
     "base_uri": "https://localhost:8080/",
     "height": 36
    },
    "executionInfo": {
     "elapsed": 10,
     "status": "ok",
     "timestamp": 1744245329251,
     "user": {
      "displayName": "CEPEDA LEANDRO",
      "userId": "00282923289931954049"
     },
     "user_tz": 180
    },
    "id": "nFIUKVLMyqnr",
    "outputId": "c89bb330-8e13-4ad8-b1de-185dccce200d"
   },
   "outputs": [
    {
     "data": {
      "application/vnd.google.colaboratory.intrinsic+json": {
       "type": "string"
      },
      "text/plain": [
       "'a'"
      ]
     },
     "execution_count": 54,
     "metadata": {},
     "output_type": "execute_result"
    }
   ],
   "source": [
    "texto[3]"
   ]
  },
  {
   "cell_type": "code",
   "execution_count": 58,
   "metadata": {
    "colab": {
     "base_uri": "https://localhost:8080/"
    },
    "executionInfo": {
     "elapsed": 34,
     "status": "ok",
     "timestamp": 1744245351480,
     "user": {
      "displayName": "CEPEDA LEANDRO",
      "userId": "00282923289931954049"
     },
     "user_tz": 180
    },
    "id": "ezQS66Cl0JNr",
    "outputId": "4bc4baf7-e3d9-45af-86dc-57a35bc385ab"
   },
   "outputs": [
    {
     "name": "stdout",
     "output_type": "stream",
     "text": [
      "El primer caracter es: p\n",
      "El décimo caracter es: i\n"
     ]
    }
   ],
   "source": [
    "print(f\"El primer caracter es: {texto[0]}\")\n",
    "print(f\"El décimo caracter es: {texto[9]}\")"
   ]
  },
  {
   "cell_type": "markdown",
   "metadata": {
    "id": "xUPGH8Zf0QAw"
   },
   "source": [
    "También podemos usar los índices para traer más de un elemento al mismo tiempo, usando el **slicing**. El slicing lleva tres parámetros: comienzo (start), final (stop) e intervalo o paso (step).\n",
    "\n",
    "- El parámetro comienzo (start) indica la primera posición incluida en la selección, por default es 0.\n",
    "\n",
    "- El parámetro final (stop) es la primera posición que NO va a estar incluída, por default se incluyen todos los elementos.\n",
    "\n",
    "- El parámetro intervalo o paso (step), es optativo e indica el tamaño del paso entre seleccionar un elemento y el siguiente, por default el paso es 1. El paso también puede ser negativo, en este caso contamos desde el final hacia el comienzo, esto es muy útil para dar vuelta los strings...\n",
    "\n",
    "    \n",
    "    [comienzo : final : intervalo] (en inglés es [start : stop : step] )\n",
    "    \n",
    "    \n",
    "El intervalo que se recibe es semi-abierto (indice_primero, indice_segundo], es decir se incluye el primero y no el segundo valor. Se admiten números negativos, que contabilizan desde el final."
   ]
  },
  {
   "cell_type": "code",
   "execution_count": 59,
   "metadata": {
    "colab": {
     "base_uri": "https://localhost:8080/",
     "height": 36
    },
    "executionInfo": {
     "elapsed": 7,
     "status": "ok",
     "timestamp": 1744245399516,
     "user": {
      "displayName": "CEPEDA LEANDRO",
      "userId": "00282923289931954049"
     },
     "user_tz": 180
    },
    "id": "Bhsmjun30kHt",
    "outputId": "8bb40b14-747b-4d68-e42a-8dbf067fd9b7"
   },
   "outputs": [
    {
     "data": {
      "application/vnd.google.colaboratory.intrinsic+json": {
       "type": "string"
      },
      "text/plain": [
       "'programación en python'"
      ]
     },
     "execution_count": 59,
     "metadata": {},
     "output_type": "execute_result"
    }
   ],
   "source": [
    "texto[:]"
   ]
  },
  {
   "cell_type": "code",
   "execution_count": 60,
   "metadata": {
    "colab": {
     "base_uri": "https://localhost:8080/",
     "height": 36
    },
    "executionInfo": {
     "elapsed": 42,
     "status": "ok",
     "timestamp": 1744245425235,
     "user": {
      "displayName": "CEPEDA LEANDRO",
      "userId": "00282923289931954049"
     },
     "user_tz": 180
    },
    "id": "hdjAES0J0mIA",
    "outputId": "a0ed84a7-0db6-470f-ce54-5dae735a3f56"
   },
   "outputs": [
    {
     "data": {
      "application/vnd.google.colaboratory.intrinsic+json": {
       "type": "string"
      },
      "text/plain": [
       "'pro'"
      ]
     },
     "execution_count": 60,
     "metadata": {},
     "output_type": "execute_result"
    }
   ],
   "source": [
    "texto[:3]"
   ]
  },
  {
   "cell_type": "code",
   "execution_count": 61,
   "metadata": {
    "colab": {
     "base_uri": "https://localhost:8080/",
     "height": 36
    },
    "executionInfo": {
     "elapsed": 10,
     "status": "ok",
     "timestamp": 1744245443241,
     "user": {
      "displayName": "CEPEDA LEANDRO",
      "userId": "00282923289931954049"
     },
     "user_tz": 180
    },
    "id": "pQP9qGza0m2l",
    "outputId": "e48b2c69-d3f5-4601-f3c8-b5f341b1bafe"
   },
   "outputs": [
    {
     "data": {
      "application/vnd.google.colaboratory.intrinsic+json": {
       "type": "string"
      },
      "text/plain": [
       "'rog'"
      ]
     },
     "execution_count": 61,
     "metadata": {},
     "output_type": "execute_result"
    }
   ],
   "source": [
    "texto[1:4]"
   ]
  },
  {
   "cell_type": "code",
   "execution_count": 64,
   "metadata": {
    "colab": {
     "base_uri": "https://localhost:8080/",
     "height": 36
    },
    "executionInfo": {
     "elapsed": 12,
     "status": "ok",
     "timestamp": 1744245552276,
     "user": {
      "displayName": "CEPEDA LEANDRO",
      "userId": "00282923289931954049"
     },
     "user_tz": 180
    },
    "id": "zK-rI2ws0o7G",
    "outputId": "66e7aedb-ed6e-439d-a3f9-84e35eba957f"
   },
   "outputs": [
    {
     "data": {
      "application/vnd.google.colaboratory.intrinsic+json": {
       "type": "string"
      },
      "text/plain": [
       "'nohtyp ne nóicamargorp'"
      ]
     },
     "execution_count": 64,
     "metadata": {},
     "output_type": "execute_result"
    }
   ],
   "source": [
    "texto[::-1]"
   ]
  },
  {
   "cell_type": "markdown",
   "metadata": {
    "id": "mzJXr_yh009g"
   },
   "source": [
    "Veamos algunos otros métodos de los strings"
   ]
  },
  {
   "cell_type": "code",
   "execution_count": 66,
   "metadata": {
    "colab": {
     "base_uri": "https://localhost:8080/",
     "height": 36
    },
    "executionInfo": {
     "elapsed": 17,
     "status": "ok",
     "timestamp": 1744245673382,
     "user": {
      "displayName": "CEPEDA LEANDRO",
      "userId": "00282923289931954049"
     },
     "user_tz": 180
    },
    "id": "K8gPPThw02R7",
    "outputId": "ea0ab103-995e-4a4e-da81-d076ea50a031"
   },
   "outputs": [
    {
     "data": {
      "application/vnd.google.colaboratory.intrinsic+json": {
       "type": "string"
      },
      "text/plain": [
       "'PROGRAMACIÓN EN PYTHON'"
      ]
     },
     "execution_count": 66,
     "metadata": {},
     "output_type": "execute_result"
    }
   ],
   "source": [
    "texto.upper()"
   ]
  },
  {
   "cell_type": "code",
   "execution_count": 67,
   "metadata": {
    "colab": {
     "base_uri": "https://localhost:8080/",
     "height": 36
    },
    "executionInfo": {
     "elapsed": 52,
     "status": "ok",
     "timestamp": 1744245676795,
     "user": {
      "displayName": "CEPEDA LEANDRO",
      "userId": "00282923289931954049"
     },
     "user_tz": 180
    },
    "id": "N5tjWT5T05Pi",
    "outputId": "42bddbb0-1c8a-4cbd-ed1e-743880e863e2"
   },
   "outputs": [
    {
     "data": {
      "application/vnd.google.colaboratory.intrinsic+json": {
       "type": "string"
      },
      "text/plain": [
       "'Programación En Python'"
      ]
     },
     "execution_count": 67,
     "metadata": {},
     "output_type": "execute_result"
    }
   ],
   "source": [
    "texto.title()"
   ]
  },
  {
   "cell_type": "code",
   "execution_count": 69,
   "metadata": {
    "colab": {
     "base_uri": "https://localhost:8080/"
    },
    "executionInfo": {
     "elapsed": 49,
     "status": "ok",
     "timestamp": 1744245972271,
     "user": {
      "displayName": "CEPEDA LEANDRO",
      "userId": "00282923289931954049"
     },
     "user_tz": 180
    },
    "id": "rJSGGPlb08EU",
    "outputId": "744f5835-191d-4802-dd87-4d7fe7510f06"
   },
   "outputs": [
    {
     "data": {
      "text/plain": [
       "['programación', 'en', 'python']"
      ]
     },
     "execution_count": 69,
     "metadata": {},
     "output_type": "execute_result"
    }
   ],
   "source": [
    "texto.split() # Devuelve una lista, de ésto vamos a hablar a continuación\n",
    "\n"
   ]
  },
  {
   "cell_type": "markdown",
   "metadata": {
    "id": "drSaKe_c1gx7"
   },
   "source": [
    "Otras formas de combinar variables y texto...\n",
    "\n",
    "Rellenamos un string con **.format(query, modales)**:"
   ]
  },
  {
   "cell_type": "code",
   "execution_count": 70,
   "metadata": {
    "colab": {
     "base_uri": "https://localhost:8080/",
     "height": 36
    },
    "executionInfo": {
     "elapsed": 48,
     "status": "ok",
     "timestamp": 1744246032782,
     "user": {
      "displayName": "CEPEDA LEANDRO",
      "userId": "00282923289931954049"
     },
     "user_tz": 180
    },
    "id": "gkJ2ycYp1k24",
    "outputId": "08e5ed8f-cf3a-4cf8-ca9b-a29ac35838bf"
   },
   "outputs": [
    {
     "data": {
      "application/vnd.google.colaboratory.intrinsic+json": {
       "type": "string"
      },
      "text/plain": [
       "'Dame información de por favor si esta disponible, intro a Python'"
      ]
     },
     "execution_count": 70,
     "metadata": {},
     "output_type": "execute_result"
    }
   ],
   "source": [
    "tema = 'intro a Python'\n",
    "modales = 'por favor'\n",
    "\n",
    "'Dame información de {} si esta disponible, {}'.format(modales, tema)"
   ]
  },
  {
   "cell_type": "code",
   "execution_count": 71,
   "metadata": {
    "colab": {
     "base_uri": "https://localhost:8080/"
    },
    "executionInfo": {
     "elapsed": 51,
     "status": "ok",
     "timestamp": 1744246070483,
     "user": {
      "displayName": "CEPEDA LEANDRO",
      "userId": "00282923289931954049"
     },
     "user_tz": 180
    },
    "id": "H3xgOPfHszHx",
    "outputId": "a85df10b-340c-4c0e-8146-b3f901186131"
   },
   "outputs": [
    {
     "name": "stdout",
     "output_type": "stream",
     "text": [
      "Dame información de INTRO A PYTHON si esta disponible, por favor\n"
     ]
    }
   ],
   "source": [
    "print(f\"Dame información de {tema.upper()} si esta disponible, {modales}\")"
   ]
  },
  {
   "cell_type": "code",
   "execution_count": 72,
   "metadata": {
    "colab": {
     "base_uri": "https://localhost:8080/"
    },
    "executionInfo": {
     "elapsed": 11,
     "status": "ok",
     "timestamp": 1744246083036,
     "user": {
      "displayName": "CEPEDA LEANDRO",
      "userId": "00282923289931954049"
     },
     "user_tz": 180
    },
    "id": "teQW6VE-2Bqs",
    "outputId": "b3246348-2774-4d20-92b8-848641c0ab99"
   },
   "outputs": [
    {
     "name": "stdout",
     "output_type": "stream",
     "text": [
      "Dame información de INTRO A PYTHON si esta disponible, por favor\n"
     ]
    }
   ],
   "source": [
    "#Otra manera\n",
    "print(f'Dame información de {tema.upper()} si esta disponible, {modales}')"
   ]
  },
  {
   "cell_type": "markdown",
   "metadata": {
    "id": "LQpqARDR2KA4"
   },
   "source": [
    "Otros métodos a mencionar son:"
   ]
  },
  {
   "cell_type": "markdown",
   "metadata": {
    "id": "9luGM5ZI2pS4"
   },
   "source": []
  },
  {
   "cell_type": "code",
   "execution_count": 74,
   "metadata": {
    "colab": {
     "base_uri": "https://localhost:8080/",
     "height": 36
    },
    "executionInfo": {
     "elapsed": 8,
     "status": "ok",
     "timestamp": 1744246105709,
     "user": {
      "displayName": "CEPEDA LEANDRO",
      "userId": "00282923289931954049"
     },
     "user_tz": 180
    },
    "id": "ITz5-gjPtb2Z",
    "outputId": "5756bba3-504a-4ac7-9bfc-288a11cade10"
   },
   "outputs": [
    {
     "data": {
      "application/vnd.google.colaboratory.intrinsic+json": {
       "type": "string"
      },
      "text/plain": [
       "'programación en python'"
      ]
     },
     "execution_count": 74,
     "metadata": {},
     "output_type": "execute_result"
    }
   ],
   "source": [
    "texto"
   ]
  },
  {
   "cell_type": "code",
   "execution_count": 73,
   "metadata": {
    "colab": {
     "base_uri": "https://localhost:8080/",
     "height": 36
    },
    "executionInfo": {
     "elapsed": 8,
     "status": "ok",
     "timestamp": 1744246100674,
     "user": {
      "displayName": "CEPEDA LEANDRO",
      "userId": "00282923289931954049"
     },
     "user_tz": 180
    },
    "id": "WX8psmZA2JX8",
    "outputId": "43c116d8-3767-4784-f7df-0d887b3822c9"
   },
   "outputs": [
    {
     "data": {
      "application/vnd.google.colaboratory.intrinsic+json": {
       "type": "string"
      },
      "text/plain": [
       "'programación_en_python'"
      ]
     },
     "execution_count": 73,
     "metadata": {},
     "output_type": "execute_result"
    }
   ],
   "source": [
    "texto.replace(' ', '_')"
   ]
  },
  {
   "cell_type": "code",
   "execution_count": 75,
   "metadata": {
    "colab": {
     "base_uri": "https://localhost:8080/",
     "height": 36
    },
    "executionInfo": {
     "elapsed": 39,
     "status": "ok",
     "timestamp": 1744246127590,
     "user": {
      "displayName": "CEPEDA LEANDRO",
      "userId": "00282923289931954049"
     },
     "user_tz": 180
    },
    "id": "xdna3VH12NpD",
    "outputId": "39f2bcde-848b-421f-c7af-6c588a88a76b"
   },
   "outputs": [
    {
     "data": {
      "application/vnd.google.colaboratory.intrinsic+json": {
       "type": "string"
      },
      "text/plain": [
       "'quitando espacios'"
      ]
     },
     "execution_count": 75,
     "metadata": {},
     "output_type": "execute_result"
    }
   ],
   "source": [
    "\"   quitando espacios  \".strip()"
   ]
  },
  {
   "cell_type": "code",
   "execution_count": 76,
   "metadata": {
    "colab": {
     "base_uri": "https://localhost:8080/"
    },
    "executionInfo": {
     "elapsed": 6,
     "status": "ok",
     "timestamp": 1744246131185,
     "user": {
      "displayName": "CEPEDA LEANDRO",
      "userId": "00282923289931954049"
     },
     "user_tz": 180
    },
    "id": "PlKO1BDl2TkD",
    "outputId": "a5c74039-afd9-47b1-e30d-7292cf6a5a78"
   },
   "outputs": [
    {
     "data": {
      "text/plain": [
       "True"
      ]
     },
     "execution_count": 76,
     "metadata": {},
     "output_type": "execute_result"
    }
   ],
   "source": [
    "\"1000\".isdigit()"
   ]
  },
  {
   "cell_type": "markdown",
   "metadata": {
    "id": "KWmCVk6Q2lEb"
   },
   "source": [
    "##Recapitulación"
   ]
  },
  {
   "cell_type": "code",
   "execution_count": null,
   "metadata": {
    "colab": {
     "base_uri": "https://localhost:8080/"
    },
    "executionInfo": {
     "elapsed": 12154,
     "status": "ok",
     "timestamp": 1731538171810,
     "user": {
      "displayName": "Matias Barreto (devenirfantasma)",
      "userId": "07072764524169679349"
     },
     "user_tz": 180
    },
    "id": "hW-YHREjhgVr",
    "outputId": "6cf789c0-d23a-46db-8956-1b512f6130c0"
   },
   "outputs": [
    {
     "name": "stdout",
     "output_type": "stream",
     "text": [
      "Escriba aqui un nombre: Matt\n",
      "Escriba aqui una edad en numeros: 30\n",
      "Escriba aqui una direccion con su numero hhhh}}\n",
      "Nombre: Matt\n",
      "Edad: 30\n",
      "Dirección: hhhh}}\n"
     ]
    }
   ],
   "source": [
    "# Introduciendo más variables y sustituciones\n",
    "nombre = input('Escriba aqui un nombre: ')\n",
    "edad = input('Escriba aqui una edad en numeros: ')\n",
    "direccion = input('Escriba aqui una direccion con su numero ')\n",
    "informacion = \"Nombre: {}\\nEdad: {}\\nDirección: {}\".format(nombre, edad, direccion)\n",
    "print(informacion)"
   ]
  },
  {
   "cell_type": "code",
   "execution_count": null,
   "metadata": {
    "id": "zMGjeTPliZl7"
   },
   "outputs": [],
   "source": [
    "# Definimos dos variables con nombres descriptivos\n",
    "a = 2\n",
    "b = 2\n",
    "\n",
    "# Introducimos una variable booleana para verificar si a es igual a b\n",
    "son_iguales = (a == b)\n",
    "\n",
    "# Utilizamos el método str.format() para formatear una cadena de manera más legible\n",
    "concatenacion = \"{} y {}\".format(a, b)\n",
    "\n",
    "# Imprimimos la cadena formateada\n",
    "print(concatenacion)\n",
    "\n",
    "# Usamos una variable booleana en una condición\n",
    "if son_iguales:\n",
    "    print(\"Las dos variables son iguales.\")\n",
    "else:\n",
    "    print(\"Las dos variables son diferentes.\")\n"
   ]
  },
  {
   "cell_type": "markdown",
   "metadata": {
    "id": "vqMvnJ9I0JCl"
   },
   "source": [
    "## Listas <a name=\"section-6\"></a>\n",
    "\n",
    "Las listas son un conjunto de elementos ordenados. Estos elementos pueden ser de cualquier tipo, incluyendo otras listas. Veamos algunas operaciones con ellas.\n"
   ]
  },
  {
   "cell_type": "code",
   "execution_count": 77,
   "metadata": {
    "executionInfo": {
     "elapsed": 5,
     "status": "ok",
     "timestamp": 1744246180305,
     "user": {
      "displayName": "CEPEDA LEANDRO",
      "userId": "00282923289931954049"
     },
     "user_tz": 180
    },
    "id": "LfFXxgv624WU"
   },
   "outputs": [],
   "source": [
    "amigos = ['Mateo', 'Nico', 'Claudia', 'Ernestina', 'Paola']"
   ]
  },
  {
   "cell_type": "code",
   "execution_count": 78,
   "metadata": {
    "executionInfo": {
     "elapsed": 5,
     "status": "ok",
     "timestamp": 1744246181894,
     "user": {
      "displayName": "CEPEDA LEANDRO",
      "userId": "00282923289931954049"
     },
     "user_tz": 180
    },
    "id": "8XKpCm8XuB6e"
   },
   "outputs": [],
   "source": [
    "amigas = (\"Tamy\", \"Claudia\", \"Caro\")"
   ]
  },
  {
   "cell_type": "markdown",
   "metadata": {
    "id": "YTxRJ9aW28-3"
   },
   "source": [
    "### Indexing y slicing en listas"
   ]
  },
  {
   "cell_type": "markdown",
   "metadata": {
    "id": "qWHvxWhe3AAc"
   },
   "source": [
    "De la misma forma que con los strings en el contexto de la listas generalmente hablamos de indexación o acceso por índice a la acción de encontrar un valor según su posición en la lista.\n",
    "\n",
    "Importantísimo (sí, ¡una vez más!): En Python el primer elemento se indexa con el valor 0. Es decir, si queremos el primer valor de una lista tenemos que llamar a la posición 0."
   ]
  },
  {
   "cell_type": "code",
   "execution_count": 79,
   "metadata": {
    "colab": {
     "base_uri": "https://localhost:8080/",
     "height": 36
    },
    "executionInfo": {
     "elapsed": 5,
     "status": "ok",
     "timestamp": 1744246194874,
     "user": {
      "displayName": "CEPEDA LEANDRO",
      "userId": "00282923289931954049"
     },
     "user_tz": 180
    },
    "id": "6fAD9SBi3G94",
    "outputId": "cedccb29-3756-4063-8568-609f4d760ece"
   },
   "outputs": [
    {
     "data": {
      "application/vnd.google.colaboratory.intrinsic+json": {
       "type": "string"
      },
      "text/plain": [
       "'Mateo'"
      ]
     },
     "execution_count": 79,
     "metadata": {},
     "output_type": "execute_result"
    }
   ],
   "source": [
    "amigos[0]"
   ]
  },
  {
   "cell_type": "markdown",
   "metadata": {
    "id": "1ddmpbyT3Kr9"
   },
   "source": [
    "Además, el último elemento se indexa como -1, el siguiente -2 y así sucesivamente. Entonces para acceder al último elemento:"
   ]
  },
  {
   "cell_type": "code",
   "execution_count": 80,
   "metadata": {
    "colab": {
     "base_uri": "https://localhost:8080/",
     "height": 36
    },
    "executionInfo": {
     "elapsed": 7,
     "status": "ok",
     "timestamp": 1744246204557,
     "user": {
      "displayName": "CEPEDA LEANDRO",
      "userId": "00282923289931954049"
     },
     "user_tz": 180
    },
    "id": "AxatTDJm3LaM",
    "outputId": "45c2d618-6c06-4233-e1cd-3c2e9453b2f6"
   },
   "outputs": [
    {
     "data": {
      "application/vnd.google.colaboratory.intrinsic+json": {
       "type": "string"
      },
      "text/plain": [
       "'Paola'"
      ]
     },
     "execution_count": 80,
     "metadata": {},
     "output_type": "execute_result"
    }
   ],
   "source": [
    "amigos[-1]"
   ]
  },
  {
   "cell_type": "markdown",
   "metadata": {
    "id": "qgjzCJvb3XWY"
   },
   "source": [
    "Además, podemos acceder a varios elementos en simultáneo, usando el slicing de la misma manera que con strings.\n",
    "\n",
    "El slicing aplicado a una lista nos devuelve una lista.\n",
    "\n",
    "Veamos algunos ejemplos:"
   ]
  },
  {
   "cell_type": "code",
   "execution_count": 82,
   "metadata": {
    "colab": {
     "base_uri": "https://localhost:8080/"
    },
    "executionInfo": {
     "elapsed": 24,
     "status": "ok",
     "timestamp": 1744246273686,
     "user": {
      "displayName": "CEPEDA LEANDRO",
      "userId": "00282923289931954049"
     },
     "user_tz": 180
    },
    "id": "HBlPSDs13ZgR",
    "outputId": "b0141ef5-818a-43e6-c430-2c44137133f2"
   },
   "outputs": [
    {
     "data": {
      "text/plain": [
       "['Mateo', 'Nico', 'Claudia', 'Ernestina', 'Paola']"
      ]
     },
     "execution_count": 82,
     "metadata": {},
     "output_type": "execute_result"
    }
   ],
   "source": [
    "amigos[:] # arranco en 0 hasta el final, con el paso default (1)"
   ]
  },
  {
   "cell_type": "code",
   "execution_count": 81,
   "metadata": {
    "colab": {
     "base_uri": "https://localhost:8080/"
    },
    "executionInfo": {
     "elapsed": 18,
     "status": "ok",
     "timestamp": 1744246271966,
     "user": {
      "displayName": "CEPEDA LEANDRO",
      "userId": "00282923289931954049"
     },
     "user_tz": 180
    },
    "id": "e-Dk9G7P3ctg",
    "outputId": "83b32ce5-c0e6-4eb1-fa30-8bbab20a4533"
   },
   "outputs": [
    {
     "data": {
      "text/plain": [
       "['Mateo']"
      ]
     },
     "execution_count": 81,
     "metadata": {},
     "output_type": "execute_result"
    }
   ],
   "source": [
    "amigos[:1] # arranco en 0 y el primero sin incluir es el 1, con el paso default (1)"
   ]
  },
  {
   "cell_type": "code",
   "execution_count": 83,
   "metadata": {
    "colab": {
     "base_uri": "https://localhost:8080/"
    },
    "executionInfo": {
     "elapsed": 9,
     "status": "ok",
     "timestamp": 1744246288815,
     "user": {
      "displayName": "CEPEDA LEANDRO",
      "userId": "00282923289931954049"
     },
     "user_tz": 180
    },
    "id": "cmCYhp_53eyw",
    "outputId": "6633a508-a365-4499-b3fb-48d1486e3503"
   },
   "outputs": [
    {
     "data": {
      "text/plain": [
       "['Mateo', 'Nico', 'Claudia', 'Ernestina']"
      ]
     },
     "execution_count": 83,
     "metadata": {},
     "output_type": "execute_result"
    }
   ],
   "source": [
    "amigos[:-1] # excluímos el último elemento"
   ]
  },
  {
   "cell_type": "code",
   "execution_count": 87,
   "metadata": {
    "colab": {
     "base_uri": "https://localhost:8080/"
    },
    "collapsed": true,
    "executionInfo": {
     "elapsed": 31,
     "status": "ok",
     "timestamp": 1744246453927,
     "user": {
      "displayName": "CEPEDA LEANDRO",
      "userId": "00282923289931954049"
     },
     "user_tz": 180
    },
    "id": "RvEBS7Z53glw",
    "jupyter": {
     "outputs_hidden": true
    },
    "outputId": "e0103508-2960-4f29-e94d-3070b84ba826"
   },
   "outputs": [
    {
     "data": {
      "text/plain": [
       "['Paola', 'Ernestina', 'Claudia', 'Nico', 'Mateo']"
      ]
     },
     "execution_count": 87,
     "metadata": {},
     "output_type": "execute_result"
    }
   ],
   "source": [
    "amigos[::-1] # salteamos un elemento a la vez"
   ]
  },
  {
   "cell_type": "code",
   "execution_count": 90,
   "metadata": {
    "colab": {
     "base_uri": "https://localhost:8080/"
    },
    "executionInfo": {
     "elapsed": 13,
     "status": "ok",
     "timestamp": 1744246510150,
     "user": {
      "displayName": "CEPEDA LEANDRO",
      "userId": "00282923289931954049"
     },
     "user_tz": 180
    },
    "id": "zCZ1QtMuzdk3",
    "outputId": "04ba1a74-2789-47ca-ccd5-59756053da33"
   },
   "outputs": [
    {
     "name": "stdout",
     "output_type": "stream",
     "text": [
      "7\n",
      "Alice 99\n"
     ]
    }
   ],
   "source": [
    "# lista basica en Python\n",
    "X = [2, 5, 7, -2, 0, 8, 13]\n",
    "\n",
    "# las listas pueden contener muchos tipos de datos\n",
    "Y = [99, 'Alice', -14.2903, 'Bob', [1,2,3], 50]\n",
    "\n",
    "# las listas tienen indice 0, por lo tanto en indice 2 es el elemento 3 de la lista X\n",
    "print(X[2])\n",
    "print(Y[1], Y[0])"
   ]
  },
  {
   "cell_type": "markdown",
   "metadata": {
    "id": "JZh5h7yl3vAN"
   },
   "source": [
    "### Otras operaciones y métodos"
   ]
  },
  {
   "cell_type": "markdown",
   "metadata": {
    "id": "IYsA3usv3yMA"
   },
   "source": [
    "Agregar un nuevo elemento:"
   ]
  },
  {
   "cell_type": "code",
   "execution_count": 92,
   "metadata": {
    "colab": {
     "base_uri": "https://localhost:8080/"
    },
    "executionInfo": {
     "elapsed": 31,
     "status": "ok",
     "timestamp": 1744246592884,
     "user": {
      "displayName": "CEPEDA LEANDRO",
      "userId": "00282923289931954049"
     },
     "user_tz": 180
    },
    "id": "Gy874d7i3lbC",
    "outputId": "272a221c-492c-4676-af03-cd26d7545799"
   },
   "outputs": [
    {
     "name": "stdout",
     "output_type": "stream",
     "text": [
      "['Mateo', 'Nico', 'Claudia', 'Ernestina', 'Paola', 'Chicharito', 'Chicharito']\n"
     ]
    }
   ],
   "source": [
    "amigos.append('Chicharito')\n",
    "print(amigos)"
   ]
  },
  {
   "cell_type": "code",
   "execution_count": 94,
   "metadata": {
    "executionInfo": {
     "elapsed": 5,
     "status": "ok",
     "timestamp": 1744246605329,
     "user": {
      "displayName": "CEPEDA LEANDRO",
      "userId": "00282923289931954049"
     },
     "user_tz": 180
    },
    "id": "_i4so22rvB5R"
   },
   "outputs": [],
   "source": [
    "amigos = amigos + ['Chicharito']"
   ]
  },
  {
   "cell_type": "code",
   "execution_count": 95,
   "metadata": {
    "colab": {
     "base_uri": "https://localhost:8080/"
    },
    "executionInfo": {
     "elapsed": 11,
     "status": "ok",
     "timestamp": 1744246609173,
     "user": {
      "displayName": "CEPEDA LEANDRO",
      "userId": "00282923289931954049"
     },
     "user_tz": 180
    },
    "id": "Vv-rwdPCvOeG",
    "outputId": "752fbfbf-da93-4a42-e115-97290fdd7548"
   },
   "outputs": [
    {
     "data": {
      "text/plain": [
       "['Mateo',\n",
       " 'Nico',\n",
       " 'Claudia',\n",
       " 'Ernestina',\n",
       " 'Paola',\n",
       " 'Chicharito',\n",
       " 'Chicharito',\n",
       " 'Chicharito',\n",
       " 'Chicharito']"
      ]
     },
     "execution_count": 95,
     "metadata": {},
     "output_type": "execute_result"
    }
   ],
   "source": [
    "amigos"
   ]
  },
  {
   "cell_type": "code",
   "execution_count": 96,
   "metadata": {
    "executionInfo": {
     "elapsed": 4,
     "status": "ok",
     "timestamp": 1744246628445,
     "user": {
      "displayName": "CEPEDA LEANDRO",
      "userId": "00282923289931954049"
     },
     "user_tz": 180
    },
    "id": "8xMtY0jQvFrJ"
   },
   "outputs": [],
   "source": [
    "x = 10"
   ]
  },
  {
   "cell_type": "code",
   "execution_count": 97,
   "metadata": {
    "colab": {
     "base_uri": "https://localhost:8080/"
    },
    "executionInfo": {
     "elapsed": 8,
     "status": "ok",
     "timestamp": 1744246634049,
     "user": {
      "displayName": "CEPEDA LEANDRO",
      "userId": "00282923289931954049"
     },
     "user_tz": 180
    },
    "id": "t7IEZE3BvgBO",
    "outputId": "a3a974a0-b81d-450f-adf8-13610165fc85"
   },
   "outputs": [
    {
     "data": {
      "text/plain": [
       "10"
      ]
     },
     "execution_count": 97,
     "metadata": {},
     "output_type": "execute_result"
    }
   ],
   "source": [
    "x"
   ]
  },
  {
   "cell_type": "code",
   "execution_count": 98,
   "metadata": {
    "executionInfo": {
     "elapsed": 7,
     "status": "ok",
     "timestamp": 1744246635485,
     "user": {
      "displayName": "CEPEDA LEANDRO",
      "userId": "00282923289931954049"
     },
     "user_tz": 180
    },
    "id": "357tY9jgvc3l"
   },
   "outputs": [],
   "source": [
    "x = x + 3\n"
   ]
  },
  {
   "cell_type": "code",
   "execution_count": 99,
   "metadata": {
    "colab": {
     "base_uri": "https://localhost:8080/"
    },
    "executionInfo": {
     "elapsed": 28,
     "status": "ok",
     "timestamp": 1744246637124,
     "user": {
      "displayName": "CEPEDA LEANDRO",
      "userId": "00282923289931954049"
     },
     "user_tz": 180
    },
    "id": "gyubX7dNvkYH",
    "outputId": "6e4ffd06-ba3d-4510-a48b-03a6e5249171"
   },
   "outputs": [
    {
     "data": {
      "text/plain": [
       "13"
      ]
     },
     "execution_count": 99,
     "metadata": {},
     "output_type": "execute_result"
    }
   ],
   "source": [
    "\n",
    "x"
   ]
  },
  {
   "cell_type": "markdown",
   "metadata": {
    "id": "o1UmG6e_4EU5"
   },
   "source": [
    "Sumamos otra lista:"
   ]
  },
  {
   "cell_type": "code",
   "execution_count": 100,
   "metadata": {
    "colab": {
     "base_uri": "https://localhost:8080/"
    },
    "executionInfo": {
     "elapsed": 16,
     "status": "ok",
     "timestamp": 1744246643801,
     "user": {
      "displayName": "CEPEDA LEANDRO",
      "userId": "00282923289931954049"
     },
     "user_tz": 180
    },
    "id": "tObBsWCr4LCh",
    "outputId": "17fc2445-00fa-4ea1-b158-daf77ba4a901"
   },
   "outputs": [
    {
     "name": "stdout",
     "output_type": "stream",
     "text": [
      "['Mateo', 'Nico', 'Claudia', 'Ernestina', 'Paola', 'Chicharito', 'Chicharito', 'Chicharito', 'Chicharito', 'Pipi', 'Toto']\n"
     ]
    }
   ],
   "source": [
    "amigos = amigos + ['Pipi', 'Toto']\n",
    "print(amigos)"
   ]
  },
  {
   "cell_type": "markdown",
   "metadata": {
    "id": "mFn23HZN-aVc"
   },
   "source": [
    "Unir una lista con un separador dado:"
   ]
  },
  {
   "cell_type": "code",
   "execution_count": 101,
   "metadata": {
    "colab": {
     "base_uri": "https://localhost:8080/",
     "height": 36
    },
    "executionInfo": {
     "elapsed": 30,
     "status": "ok",
     "timestamp": 1744246657980,
     "user": {
      "displayName": "CEPEDA LEANDRO",
      "userId": "00282923289931954049"
     },
     "user_tz": 180
    },
    "id": "ittRiw44-UQI",
    "outputId": "63ea6a68-02c0-4700-c654-7a3f01a68340"
   },
   "outputs": [
    {
     "data": {
      "application/vnd.google.colaboratory.intrinsic+json": {
       "type": "string"
      },
      "text/plain": [
       "'valor1#valor2#valor3'"
      ]
     },
     "execution_count": 101,
     "metadata": {},
     "output_type": "execute_result"
    }
   ],
   "source": [
    "ejemplo = ['valor1', 'valor2', 'valor3']\n",
    "'#'.join(ejemplo)"
   ]
  },
  {
   "cell_type": "code",
   "execution_count": 102,
   "metadata": {
    "colab": {
     "base_uri": "https://localhost:8080/",
     "height": 36
    },
    "executionInfo": {
     "elapsed": 6,
     "status": "ok",
     "timestamp": 1744246676555,
     "user": {
      "displayName": "CEPEDA LEANDRO",
      "userId": "00282923289931954049"
     },
     "user_tz": 180
    },
    "id": "Fx7UuVx7-lMB",
    "outputId": "7f733831-7582-4962-8fa9-7d827085fbe7"
   },
   "outputs": [
    {
     "data": {
      "application/vnd.google.colaboratory.intrinsic+json": {
       "type": "string"
      },
      "text/plain": [
       "'hola qué tal'"
      ]
     },
     "execution_count": 102,
     "metadata": {},
     "output_type": "execute_result"
    }
   ],
   "source": [
    "\" \".join([\"hola\", \"qué tal\"])"
   ]
  },
  {
   "cell_type": "markdown",
   "metadata": {
    "id": "xQoBVZSD-b9G"
   },
   "source": [
    "Borrado por valor:"
   ]
  },
  {
   "cell_type": "code",
   "execution_count": 103,
   "metadata": {
    "colab": {
     "base_uri": "https://localhost:8080/"
    },
    "executionInfo": {
     "elapsed": 15,
     "status": "ok",
     "timestamp": 1744246688643,
     "user": {
      "displayName": "CEPEDA LEANDRO",
      "userId": "00282923289931954049"
     },
     "user_tz": 180
    },
    "id": "SY83NwYtwA9x",
    "outputId": "af3d3bad-6b4b-42cb-bb70-94b99ccd486e"
   },
   "outputs": [
    {
     "data": {
      "text/plain": [
       "['Mateo',\n",
       " 'Nico',\n",
       " 'Claudia',\n",
       " 'Ernestina',\n",
       " 'Paola',\n",
       " 'Chicharito',\n",
       " 'Chicharito',\n",
       " 'Chicharito',\n",
       " 'Chicharito',\n",
       " 'Pipi',\n",
       " 'Toto']"
      ]
     },
     "execution_count": 103,
     "metadata": {},
     "output_type": "execute_result"
    }
   ],
   "source": [
    "amigos"
   ]
  },
  {
   "cell_type": "code",
   "execution_count": 106,
   "metadata": {
    "colab": {
     "base_uri": "https://localhost:8080/"
    },
    "executionInfo": {
     "elapsed": 20,
     "status": "ok",
     "timestamp": 1744246701973,
     "user": {
      "displayName": "CEPEDA LEANDRO",
      "userId": "00282923289931954049"
     },
     "user_tz": 180
    },
    "id": "Pli2PACp-chv",
    "outputId": "dc60a19a-4722-40af-c953-2d5d688e6d09"
   },
   "outputs": [
    {
     "name": "stdout",
     "output_type": "stream",
     "text": [
      "['Mateo', 'Nico', 'Claudia', 'Ernestina', 'Paola', 'Chicharito', 'Pipi', 'Toto']\n"
     ]
    }
   ],
   "source": [
    "amigos.remove('Chicharito')\n",
    "print(amigos)"
   ]
  },
  {
   "cell_type": "markdown",
   "metadata": {
    "id": "SC_D99cN-vy0"
   },
   "source": [
    "Borrado por índice:"
   ]
  },
  {
   "cell_type": "code",
   "execution_count": 107,
   "metadata": {
    "colab": {
     "base_uri": "https://localhost:8080/"
    },
    "executionInfo": {
     "elapsed": 23,
     "status": "ok",
     "timestamp": 1744246710925,
     "user": {
      "displayName": "CEPEDA LEANDRO",
      "userId": "00282923289931954049"
     },
     "user_tz": 180
    },
    "id": "OVACTNya-u57",
    "outputId": "0d96fa04-ac90-48a7-83d3-a4676c63082d"
   },
   "outputs": [
    {
     "name": "stdout",
     "output_type": "stream",
     "text": [
      "['Mateo', 'Nico', 'Claudia', 'Ernestina', 'Chicharito', 'Pipi', 'Toto']\n"
     ]
    }
   ],
   "source": [
    "del amigos[4]\n",
    "print(amigos)"
   ]
  },
  {
   "cell_type": "code",
   "execution_count": null,
   "metadata": {
    "id": "sw80iN01wTkw"
   },
   "outputs": [],
   "source": []
  },
  {
   "cell_type": "code",
   "execution_count": 108,
   "metadata": {
    "executionInfo": {
     "elapsed": 38,
     "status": "ok",
     "timestamp": 1744246725333,
     "user": {
      "displayName": "CEPEDA LEANDRO",
      "userId": "00282923289931954049"
     },
     "user_tz": 180
    },
    "id": "56zb4AuF-9CN"
   },
   "outputs": [],
   "source": [
    "edades = [30, 40, 38, 30, 37]"
   ]
  },
  {
   "cell_type": "markdown",
   "metadata": {
    "id": "3_aXLKCq-z0R"
   },
   "source": [
    "Devuelve un elemento y lo borra de la lista:"
   ]
  },
  {
   "cell_type": "code",
   "execution_count": 109,
   "metadata": {
    "executionInfo": {
     "elapsed": 1,
     "status": "ok",
     "timestamp": 1744246738032,
     "user": {
      "displayName": "CEPEDA LEANDRO",
      "userId": "00282923289931954049"
     },
     "user_tz": 180
    },
    "id": "3XLXdy68-0IT"
   },
   "outputs": [],
   "source": [
    "valor = amigos.pop(0)"
   ]
  },
  {
   "cell_type": "code",
   "execution_count": 110,
   "metadata": {
    "colab": {
     "base_uri": "https://localhost:8080/",
     "height": 36
    },
    "executionInfo": {
     "elapsed": 46,
     "status": "ok",
     "timestamp": 1744246739262,
     "user": {
      "displayName": "CEPEDA LEANDRO",
      "userId": "00282923289931954049"
     },
     "user_tz": 180
    },
    "id": "qyYTNz5owqE2",
    "outputId": "4ab0ee7f-8cdc-4301-e2e9-feaffad05632"
   },
   "outputs": [
    {
     "data": {
      "application/vnd.google.colaboratory.intrinsic+json": {
       "type": "string"
      },
      "text/plain": [
       "'Mateo'"
      ]
     },
     "execution_count": 110,
     "metadata": {},
     "output_type": "execute_result"
    }
   ],
   "source": [
    "valor"
   ]
  },
  {
   "cell_type": "code",
   "execution_count": 111,
   "metadata": {
    "colab": {
     "base_uri": "https://localhost:8080/"
    },
    "executionInfo": {
     "elapsed": 25,
     "status": "ok",
     "timestamp": 1744246741314,
     "user": {
      "displayName": "CEPEDA LEANDRO",
      "userId": "00282923289931954049"
     },
     "user_tz": 180
    },
    "id": "eev8chBWwsa_",
    "outputId": "cf84ed1c-0f72-4a2b-89e6-6b7f4b3aca50"
   },
   "outputs": [
    {
     "data": {
      "text/plain": [
       "['Nico', 'Claudia', 'Ernestina', 'Chicharito', 'Pipi', 'Toto']"
      ]
     },
     "execution_count": 111,
     "metadata": {},
     "output_type": "execute_result"
    }
   ],
   "source": [
    "amigos"
   ]
  },
  {
   "cell_type": "markdown",
   "metadata": {
    "id": "EKSWr9Wr_HOm"
   },
   "source": [
    "Cantidad de apariciones:"
   ]
  },
  {
   "cell_type": "code",
   "execution_count": 112,
   "metadata": {
    "colab": {
     "base_uri": "https://localhost:8080/"
    },
    "executionInfo": {
     "elapsed": 10,
     "status": "ok",
     "timestamp": 1744246753715,
     "user": {
      "displayName": "CEPEDA LEANDRO",
      "userId": "00282923289931954049"
     },
     "user_tz": 180
    },
    "id": "zMMa_NSH_GGU",
    "outputId": "f482ee2f-5b27-4b66-85e7-d32dc641bceb"
   },
   "outputs": [
    {
     "name": "stdout",
     "output_type": "stream",
     "text": [
      "2\n"
     ]
    }
   ],
   "source": [
    "print(edades.count(30))"
   ]
  },
  {
   "cell_type": "markdown",
   "metadata": {
    "id": "ilYN-sW2_Lht"
   },
   "source": [
    "Largo de la lista:"
   ]
  },
  {
   "cell_type": "code",
   "execution_count": 113,
   "metadata": {
    "colab": {
     "base_uri": "https://localhost:8080/"
    },
    "executionInfo": {
     "elapsed": 6,
     "status": "ok",
     "timestamp": 1744246829333,
     "user": {
      "displayName": "CEPEDA LEANDRO",
      "userId": "00282923289931954049"
     },
     "user_tz": 180
    },
    "id": "H8yFBP4Y_L71",
    "outputId": "f4123241-de79-430d-f209-1a36a0e80aac"
   },
   "outputs": [
    {
     "name": "stdout",
     "output_type": "stream",
     "text": [
      "5\n"
     ]
    }
   ],
   "source": [
    "print(len(edades))"
   ]
  },
  {
   "cell_type": "markdown",
   "metadata": {
    "id": "N0xaVuc2_Mbn"
   },
   "source": [
    "Ordenar la lista:"
   ]
  },
  {
   "cell_type": "code",
   "execution_count": 114,
   "metadata": {
    "colab": {
     "base_uri": "https://localhost:8080/"
    },
    "executionInfo": {
     "elapsed": 23,
     "status": "ok",
     "timestamp": 1744246831945,
     "user": {
      "displayName": "CEPEDA LEANDRO",
      "userId": "00282923289931954049"
     },
     "user_tz": 180
    },
    "id": "ZNb7zPIV_Mw-",
    "outputId": "83d50e90-8ba3-4f0c-a710-389fc335e97f"
   },
   "outputs": [
    {
     "data": {
      "text/plain": [
       "[30, 30, 37, 38, 40]"
      ]
     },
     "execution_count": 114,
     "metadata": {},
     "output_type": "execute_result"
    }
   ],
   "source": [
    "sorted(edades)"
   ]
  },
  {
   "cell_type": "markdown",
   "metadata": {
    "id": "KuIu8ZOB_5Bo"
   },
   "source": [
    "Sumar el total"
   ]
  },
  {
   "cell_type": "code",
   "execution_count": null,
   "metadata": {
    "colab": {
     "base_uri": "https://localhost:8080/"
    },
    "executionInfo": {
     "elapsed": 552,
     "status": "ok",
     "timestamp": 1731538951883,
     "user": {
      "displayName": "Matias Barreto (devenirfantasma)",
      "userId": "07072764524169679349"
     },
     "user_tz": 180
    },
    "id": "KcPjFY5b_4H3",
    "outputId": "ec8ea033-9e76-48f7-a101-ce52409fcb8a"
   },
   "outputs": [
    {
     "name": "stdout",
     "output_type": "stream",
     "text": [
      "175\n"
     ]
    }
   ],
   "source": [
    "print(sum(edades))"
   ]
  },
  {
   "cell_type": "markdown",
   "metadata": {
    "id": "TcSwxrVVAA9-"
   },
   "source": [
    "Minimo"
   ]
  },
  {
   "cell_type": "code",
   "execution_count": null,
   "metadata": {
    "colab": {
     "base_uri": "https://localhost:8080/"
    },
    "executionInfo": {
     "elapsed": 535,
     "status": "ok",
     "timestamp": 1731538954014,
     "user": {
      "displayName": "Matias Barreto (devenirfantasma)",
      "userId": "07072764524169679349"
     },
     "user_tz": 180
    },
    "id": "pB1KLWAM_8eG",
    "outputId": "1164b1fa-a102-47c3-d88e-ae4080364f26"
   },
   "outputs": [
    {
     "name": "stdout",
     "output_type": "stream",
     "text": [
      "30\n"
     ]
    }
   ],
   "source": [
    "print(min(edades))"
   ]
  },
  {
   "cell_type": "markdown",
   "metadata": {
    "id": "9q8-c62oAFgn"
   },
   "source": [
    "Maximo"
   ]
  },
  {
   "cell_type": "code",
   "execution_count": null,
   "metadata": {
    "colab": {
     "base_uri": "https://localhost:8080/"
    },
    "executionInfo": {
     "elapsed": 629,
     "status": "ok",
     "timestamp": 1731538958237,
     "user": {
      "displayName": "Matias Barreto (devenirfantasma)",
      "userId": "07072764524169679349"
     },
     "user_tz": 180
    },
    "id": "2uqznKJ_ACnv",
    "outputId": "fe514e12-84b4-49ef-c152-e690e9e4cdf8"
   },
   "outputs": [
    {
     "name": "stdout",
     "output_type": "stream",
     "text": [
      "40\n"
     ]
    }
   ],
   "source": [
    "print(max(edades))"
   ]
  },
  {
   "cell_type": "markdown",
   "metadata": {
    "id": "ckIAVbXNAKd-"
   },
   "source": [
    "## Diccionarios <a name=\"section-8\"></a>\n",
    "\n",
    "Los diccionarios consisten en estructuras que contienen pares de una **llave** y un **valor**. Los elementos NO están ordenados, con lo cual no se puede acceder por posición ni slicing.\n",
    "\n",
    "Veamos un ejemplo"
   ]
  },
  {
   "cell_type": "code",
   "execution_count": 115,
   "metadata": {
    "executionInfo": {
     "elapsed": 20,
     "status": "ok",
     "timestamp": 1744246873297,
     "user": {
      "displayName": "CEPEDA LEANDRO",
      "userId": "00282923289931954049"
     },
     "user_tz": 180
    },
    "id": "fBA2dyLgAM9G"
   },
   "outputs": [],
   "source": [
    "dnis = {'Herrera':32676585, 'Guzmán':9564787,\n",
    "        'Pérez':5676898, 'Hernández':40565999,\n",
    "        'Abraham':28375814,\n",
    "       \"soy_una_llave\":\"soy_un_valor\"}"
   ]
  },
  {
   "cell_type": "code",
   "execution_count": 116,
   "metadata": {
    "colab": {
     "base_uri": "https://localhost:8080/"
    },
    "executionInfo": {
     "elapsed": 9,
     "status": "ok",
     "timestamp": 1744246877318,
     "user": {
      "displayName": "CEPEDA LEANDRO",
      "userId": "00282923289931954049"
     },
     "user_tz": 180
    },
    "id": "691yVzogxPty",
    "outputId": "f7f7b278-b16f-4402-e5d3-7d48a0caae33"
   },
   "outputs": [
    {
     "data": {
      "text/plain": [
       "{'Herrera': 32676585,\n",
       " 'Guzmán': 9564787,\n",
       " 'Pérez': 5676898,\n",
       " 'Hernández': 40565999,\n",
       " 'Abraham': 28375814,\n",
       " 'soy_una_llave': 'soy_un_valor'}"
      ]
     },
     "execution_count": 116,
     "metadata": {},
     "output_type": "execute_result"
    }
   ],
   "source": [
    "dnis"
   ]
  },
  {
   "cell_type": "markdown",
   "metadata": {
    "id": "yrygpa2_AWgN"
   },
   "source": [
    "Sin embargo, sí podemos acceder a un elemento por su llave. Accedemos al valor de \"Abraham\""
   ]
  },
  {
   "cell_type": "code",
   "execution_count": 117,
   "metadata": {
    "colab": {
     "base_uri": "https://localhost:8080/"
    },
    "executionInfo": {
     "elapsed": 9,
     "status": "ok",
     "timestamp": 1744246883300,
     "user": {
      "displayName": "CEPEDA LEANDRO",
      "userId": "00282923289931954049"
     },
     "user_tz": 180
    },
    "id": "5AvVT0tCAWDu",
    "outputId": "a8d62f14-b22d-408a-c664-2c47bf36eda8"
   },
   "outputs": [
    {
     "data": {
      "text/plain": [
       "28375814"
      ]
     },
     "execution_count": 117,
     "metadata": {},
     "output_type": "execute_result"
    }
   ],
   "source": [
    "dnis['Abraham'] # noten que se usa la misma notación que con las listas"
   ]
  },
  {
   "cell_type": "markdown",
   "metadata": {
    "id": "hzcsktwRAhr5"
   },
   "source": [
    "¿Qué pasa si tratamos un diccionario como una lista?\n",
    "\n",
    "*   Elemento de lista\n",
    "*   Elemento de lista\n",
    "\n"
   ]
  },
  {
   "cell_type": "code",
   "execution_count": 120,
   "metadata": {
    "colab": {
     "base_uri": "https://localhost:8080/",
     "height": 144
    },
    "executionInfo": {
     "elapsed": 15,
     "status": "error",
     "timestamp": 1744246984786,
     "user": {
      "displayName": "CEPEDA LEANDRO",
      "userId": "00282923289931954049"
     },
     "user_tz": 180
    },
    "id": "crSkFcBNAide",
    "outputId": "f45f7ca4-466d-4a83-aca7-ec0f5b9b7c87"
   },
   "outputs": [
    {
     "ename": "KeyError",
     "evalue": "0",
     "output_type": "error",
     "traceback": [
      "\u001b[0;31m---------------------------------------------------------------------------\u001b[0m",
      "\u001b[0;31mKeyError\u001b[0m                                  Traceback (most recent call last)",
      "\u001b[0;32m<ipython-input-120-2259da55a37d>\u001b[0m in \u001b[0;36m<cell line: 0>\u001b[0;34m()\u001b[0m\n\u001b[0;32m----> 1\u001b[0;31m \u001b[0mdnis\u001b[0m\u001b[0;34m[\u001b[0m\u001b[0;36m0\u001b[0m\u001b[0;34m]\u001b[0m\u001b[0;34m\u001b[0m\u001b[0;34m\u001b[0m\u001b[0m\n\u001b[0m",
      "\u001b[0;31mKeyError\u001b[0m: 0"
     ]
    }
   ],
   "source": [
    "dnis[0]"
   ]
  },
  {
   "cell_type": "markdown",
   "metadata": {
    "id": "Ff-99dmnAqYt"
   },
   "source": [
    "Tenemos un error, tratemos de interpretarlo: KeyError se refierre a que no existe una llave (Key) a la que se trató de acceder. En este caso la llave que se trató de acceder es 0."
   ]
  },
  {
   "cell_type": "markdown",
   "metadata": {
    "id": "wxB_aed0Axfd"
   },
   "source": [
    "Podemos ver todas las llaves:"
   ]
  },
  {
   "cell_type": "code",
   "execution_count": 121,
   "metadata": {
    "colab": {
     "base_uri": "https://localhost:8080/"
    },
    "executionInfo": {
     "elapsed": 29,
     "status": "ok",
     "timestamp": 1744247011694,
     "user": {
      "displayName": "CEPEDA LEANDRO",
      "userId": "00282923289931954049"
     },
     "user_tz": 180
    },
    "id": "Lpb4mEq5AuRs",
    "outputId": "c7dff04e-614d-4536-ba7f-5242d4779d15"
   },
   "outputs": [
    {
     "data": {
      "text/plain": [
       "dict_keys(['Herrera', 'Guzmán', 'Pérez', 'Hernández', 'Abraham', 'soy_una_llave'])"
      ]
     },
     "execution_count": 121,
     "metadata": {},
     "output_type": "execute_result"
    }
   ],
   "source": [
    "dnis.keys()"
   ]
  },
  {
   "cell_type": "markdown",
   "metadata": {
    "id": "YaansG-sA6Pl"
   },
   "source": [
    "Traer todos los pares de elementos:"
   ]
  },
  {
   "cell_type": "code",
   "execution_count": 122,
   "metadata": {
    "colab": {
     "base_uri": "https://localhost:8080/"
    },
    "executionInfo": {
     "elapsed": 17,
     "status": "ok",
     "timestamp": 1744247019873,
     "user": {
      "displayName": "CEPEDA LEANDRO",
      "userId": "00282923289931954049"
     },
     "user_tz": 180
    },
    "id": "qWgXt2MeA7FM",
    "outputId": "b72bea1b-1035-4dd5-b95a-a99e07a6719d"
   },
   "outputs": [
    {
     "data": {
      "text/plain": [
       "dict_items([('Herrera', 32676585), ('Guzmán', 9564787), ('Pérez', 5676898), ('Hernández', 40565999), ('Abraham', 28375814), ('soy_una_llave', 'soy_un_valor')])"
      ]
     },
     "execution_count": 122,
     "metadata": {},
     "output_type": "execute_result"
    }
   ],
   "source": [
    "dnis.items()"
   ]
  },
  {
   "cell_type": "markdown",
   "metadata": {
    "id": "gHqCzMQNBCtv"
   },
   "source": [
    "Y utilizar los mismos métodos para borrar y extrar como en las listas:"
   ]
  },
  {
   "cell_type": "code",
   "execution_count": 123,
   "metadata": {
    "colab": {
     "base_uri": "https://localhost:8080/"
    },
    "executionInfo": {
     "elapsed": 8,
     "status": "ok",
     "timestamp": 1744247040905,
     "user": {
      "displayName": "CEPEDA LEANDRO",
      "userId": "00282923289931954049"
     },
     "user_tz": 180
    },
    "id": "_T8kpMtBBB-O",
    "outputId": "588873f3-9de2-453a-d9a6-01e64002cddb"
   },
   "outputs": [
    {
     "data": {
      "text/plain": [
       "32676585"
      ]
     },
     "execution_count": 123,
     "metadata": {},
     "output_type": "execute_result"
    }
   ],
   "source": [
    "dnis.pop('Herrera')"
   ]
  },
  {
   "cell_type": "markdown",
   "metadata": {
    "id": "djey8paiBKQ2"
   },
   "source": [
    "Los diccionarios tienen longitud, de la misma forma que las listas y string"
   ]
  },
  {
   "cell_type": "code",
   "execution_count": 124,
   "metadata": {
    "colab": {
     "base_uri": "https://localhost:8080/"
    },
    "executionInfo": {
     "elapsed": 23,
     "status": "ok",
     "timestamp": 1744247043912,
     "user": {
      "displayName": "CEPEDA LEANDRO",
      "userId": "00282923289931954049"
     },
     "user_tz": 180
    },
    "id": "WwB78aDLBKx3",
    "outputId": "1fc3c63f-dd07-424f-8c31-9be8a8596f8a"
   },
   "outputs": [
    {
     "data": {
      "text/plain": [
       "5"
      ]
     },
     "execution_count": 124,
     "metadata": {},
     "output_type": "execute_result"
    }
   ],
   "source": [
    "len(dnis)"
   ]
  },
  {
   "cell_type": "markdown",
   "metadata": {
    "id": "lU46wk8dDbzn"
   },
   "source": [
    "## Condicionales <a name=\"section-9\"></a>\n",
    "\n",
    "El condicional tiene la siguiente sintáxis:\n",
    "\n",
    "    if CONDICIÓN:\n",
    "        código1\n",
    "    elif CONDICIÓN2:\n",
    "        código2\n",
    "    else:\n",
    "        código3\n",
    "        \n",
    "Donde la condición es un operador que devuelve un objeto de tipo booleano. La **indentación** del código define qué parte se incluye como condicional.\n",
    "\n",
    "El término \"elif\" viene de \"else if\". La condición sólo se evaluará si la condición del \"if\" no se cumple."
   ]
  },
  {
   "cell_type": "code",
   "execution_count": 125,
   "metadata": {
    "colab": {
     "base_uri": "https://localhost:8080/"
    },
    "executionInfo": {
     "elapsed": 18033,
     "status": "ok",
     "timestamp": 1744247139693,
     "user": {
      "displayName": "CEPEDA LEANDRO",
      "userId": "00282923289931954049"
     },
     "user_tz": 180
    },
    "id": "X9SAa3XMCGPF",
    "outputId": "dcc79153-95f1-44a3-d151-287b13a61678"
   },
   "outputs": [
    {
     "name": "stdout",
     "output_type": "stream",
     "text": [
      "Introduce un número: 78\n",
      "El número secreto es menor que tu número.\n",
      "Intenta adivinar el número secreto de nuevo.\n"
     ]
    }
   ],
   "source": [
    "numero_secreto = 56 # Cambiamos este valor para jugar\n",
    "\n",
    "numero_usuario = int(input(\"Introduce un número: \"))\n",
    "\n",
    "if numero_usuario == numero_secreto:\n",
    "  print(\"¡Felicidades! Adivinaste el número secreto.\")\n",
    "elif numero_usuario < numero_secreto:\n",
    "  print(\"El número secreto es mayor que tu número.\")\n",
    "else:\n",
    "  print(\"El número secreto es menor que tu número.\")\n",
    "\n",
    "print(\"Intenta adivinar el número secreto de nuevo.\")"
   ]
  },
  {
   "cell_type": "markdown",
   "metadata": {
    "id": "uQibNG_LFoo8"
   },
   "source": []
  },
  {
   "cell_type": "markdown",
   "metadata": {
    "id": "gB4zZjBn0NfA"
   },
   "source": [
    "## Bucles o Loops\n",
    "\n",
    "Los bucles son un tipo de sentencia donde se realiza el código contenido repetidamente. Existen dos tipos. En el bucle **for**, se **itera** o recorre un conjunto de elementos actuando por cada uno de ellos. En el bucle **while** se itera hasta que se cumple una condiciónn de corte."
   ]
  },
  {
   "cell_type": "markdown",
   "metadata": {
    "id": "ZcTEPmiRCj9K"
   },
   "source": [
    "### For loop"
   ]
  },
  {
   "cell_type": "code",
   "execution_count": 128,
   "metadata": {
    "colab": {
     "base_uri": "https://localhost:8080/"
    },
    "executionInfo": {
     "elapsed": 9,
     "status": "ok",
     "timestamp": 1744247193714,
     "user": {
      "displayName": "CEPEDA LEANDRO",
      "userId": "00282923289931954049"
     },
     "user_tz": 180
    },
    "id": "ZPKl8SafCmdG",
    "outputId": "c07f784a-0f5f-45d5-be2e-077b577f9d5d"
   },
   "outputs": [
    {
     "name": "stdout",
     "output_type": "stream",
     "text": [
      "EL tipo es 2 <class 'int'>\n",
      "EL tipo es 4 <class 'int'>\n",
      "EL tipo es 33 <class 'str'>\n"
     ]
    }
   ],
   "source": [
    "for n in [1,2,'3']:\n",
    "    print(f'EL tipo es {n*2} {type(n*2)}')"
   ]
  },
  {
   "cell_type": "code",
   "execution_count": 129,
   "metadata": {
    "colab": {
     "base_uri": "https://localhost:8080/"
    },
    "executionInfo": {
     "elapsed": 21,
     "status": "ok",
     "timestamp": 1744247196909,
     "user": {
      "displayName": "CEPEDA LEANDRO",
      "userId": "00282923289931954049"
     },
     "user_tz": 180
    },
    "id": "IJ-XwK5aC0we",
    "outputId": "c9a6a30d-a6a7-41d7-bb5e-861c7d67a610"
   },
   "outputs": [
    {
     "name": "stdout",
     "output_type": "stream",
     "text": [
      "2\n",
      "4\n",
      "6\n",
      "8\n",
      "10\n"
     ]
    }
   ],
   "source": [
    "lista = [1,2,3,4,5]\n",
    "\n",
    "for numero in lista:\n",
    "    print(numero * 2)"
   ]
  },
  {
   "cell_type": "code",
   "execution_count": 130,
   "metadata": {
    "colab": {
     "base_uri": "https://localhost:8080/"
    },
    "executionInfo": {
     "elapsed": 9,
     "status": "ok",
     "timestamp": 1744247219565,
     "user": {
      "displayName": "CEPEDA LEANDRO",
      "userId": "00282923289931954049"
     },
     "user_tz": 180
    },
    "id": "rymRyCe7C_uZ",
    "outputId": "fb17e80e-eb14-411b-c9e4-a757f2e4aa22"
   },
   "outputs": [
    {
     "name": "stdout",
     "output_type": "stream",
     "text": [
      "0\n",
      "1\n",
      "2\n",
      "3\n",
      "4\n",
      "5\n",
      "6\n",
      "7\n",
      "8\n",
      "9\n"
     ]
    }
   ],
   "source": [
    "for _ in range(10):\n",
    "    print(_)"
   ]
  },
  {
   "cell_type": "markdown",
   "metadata": {
    "id": "3kDs9jg0DFUX"
   },
   "source": [
    "Si pasamos dos parámetros, estamos pasando el start y el stop, el primer valor es el \"start\" y el segundo el \"stop\"."
   ]
  },
  {
   "cell_type": "code",
   "execution_count": 131,
   "metadata": {
    "colab": {
     "base_uri": "https://localhost:8080/"
    },
    "executionInfo": {
     "elapsed": 27,
     "status": "ok",
     "timestamp": 1744247412241,
     "user": {
      "displayName": "CEPEDA LEANDRO",
      "userId": "00282923289931954049"
     },
     "user_tz": 180
    },
    "id": "zwy0WM0xDERn",
    "outputId": "2ccb0360-7803-4eb6-d69a-08ef28940d56"
   },
   "outputs": [
    {
     "name": "stdout",
     "output_type": "stream",
     "text": [
      "0\n",
      "1\n",
      "2\n",
      "3\n",
      "4\n"
     ]
    }
   ],
   "source": [
    "for n in range(0,5):\n",
    "    print(n)"
   ]
  },
  {
   "cell_type": "markdown",
   "metadata": {
    "id": "8aFdwFouDSLw"
   },
   "source": [
    "Noten que el valor de start se incluye y el de stop no:"
   ]
  },
  {
   "cell_type": "code",
   "execution_count": 132,
   "metadata": {
    "colab": {
     "base_uri": "https://localhost:8080/"
    },
    "executionInfo": {
     "elapsed": 10,
     "status": "ok",
     "timestamp": 1744247414099,
     "user": {
      "displayName": "CEPEDA LEANDRO",
      "userId": "00282923289931954049"
     },
     "user_tz": 180
    },
    "id": "DYpZbLw2DVTA",
    "outputId": "8dd8fd54-fc46-4ecc-c8c6-cb8844bc1bd6"
   },
   "outputs": [
    {
     "name": "stdout",
     "output_type": "stream",
     "text": [
      "2\n",
      "4\n",
      "6\n",
      "8\n",
      "10\n"
     ]
    }
   ],
   "source": [
    "for n in range(1, 6): # esto nos da el mismo resultado que un par de celdas más arriba\n",
    "    print(n * 2)"
   ]
  },
  {
   "cell_type": "markdown",
   "metadata": {
    "id": "A7truQmpDhCP"
   },
   "source": [
    "Por último, el tercer parámetro es el step..."
   ]
  },
  {
   "cell_type": "code",
   "execution_count": null,
   "metadata": {
    "id": "74mJLVMaEiFF"
   },
   "outputs": [],
   "source": [
    "for n in range(1, 11, 2):  # Incrementando de a 2\n",
    "    print(n)"
   ]
  },
  {
   "cell_type": "markdown",
   "metadata": {
    "id": "I34QkR9AEoUB"
   },
   "source": [
    "### While loop"
   ]
  },
  {
   "cell_type": "markdown",
   "metadata": {
    "id": "PmMVUoR_EsX1"
   },
   "source": [
    "Los bucles **while** se definen con una condición, y el código contenido se ejecuta mientras la misma evalue como True. Es importante definir correctamente cuándo la condición pasa de True a False, si no lo hacemos podemos dejar corriendo un programa infinitamente sin que corte. Si eso llega a suceder tienen un botón de stop arriba en la notebook."
   ]
  },
  {
   "cell_type": "code",
   "execution_count": 133,
   "metadata": {
    "colab": {
     "base_uri": "https://localhost:8080/"
    },
    "executionInfo": {
     "elapsed": 18,
     "status": "ok",
     "timestamp": 1744247419310,
     "user": {
      "displayName": "CEPEDA LEANDRO",
      "userId": "00282923289931954049"
     },
     "user_tz": 180
    },
    "id": "IXpUBCWwEtW9",
    "outputId": "a03219e0-28fc-4dfc-e6f3-35e1bb6b282e"
   },
   "outputs": [
    {
     "name": "stdout",
     "output_type": "stream",
     "text": [
      "1\n",
      "2\n",
      "3\n",
      "4\n",
      "5\n",
      "6\n",
      "7\n",
      "8\n",
      "9\n",
      "10\n",
      "11\n",
      "12\n",
      "13\n",
      "14\n",
      "15\n",
      "16\n",
      "17\n",
      "18\n",
      "19\n",
      "20\n"
     ]
    }
   ],
   "source": [
    "contador = 0\n",
    "\n",
    "while contador < 20:\n",
    "    contador += 1 # esto equivale a count = count + 1\n",
    "    print(contador)"
   ]
  },
  {
   "cell_type": "markdown",
   "metadata": {
    "id": "6UXz064MC8Nm"
   },
   "source": [
    "También agreguemos la función **range** a nuestro repertorio. La función range consta de tres parámetros importante: start, stop, step. Si pasamos un sólo parámetro, estamos pasando el \"stop\" y tomamos 0 como valor default de \"start\". Del mismo modo que cuando vimos listas, el stop no está incluído y el step por default es 1.\n",
    "\n",
    "Veamos cómo funciona:"
   ]
  },
  {
   "cell_type": "markdown",
   "metadata": {
    "id": "CZqpStBJ5g4i"
   },
   "source": [
    "### Usando un bucle for para imprimir saludos a cada nombre en la lista\n",
    "\n",
    "#### El %s en la cadena es un marcador de posición que se utilizará para insertar el valor de n en el mensaje de saludo. El operador % se usa para formatear la cadena, donde %s se reemplazará por el valor de n en cada iteración."
   ]
  },
  {
   "cell_type": "code",
   "execution_count": null,
   "metadata": {
    "id": "iGxie_f00Smm"
   },
   "outputs": [],
   "source": [
    "nombres = ['Alicia', 'Bob', 'Carol', 'David', 'Juancito']\n",
    "for n in nombres:\n",
    "    print('Hola %s' % n)"
   ]
  },
  {
   "cell_type": "markdown",
   "metadata": {
    "id": "7Tqm4SrPB5FV"
   },
   "source": [
    "Una forma más actual y legible de escribir este código es utilizar literales de cadena f-strings (disponibles a partir de Python 3.6). Esto simplifica el formato de cadena y hace que el código sea más claro:"
   ]
  },
  {
   "cell_type": "code",
   "execution_count": null,
   "metadata": {
    "id": "20kio7RfB99c"
   },
   "outputs": [],
   "source": [
    "nombres = ['Alicia', 'Bob', 'Carol', 'David', 'Juancito']\n",
    "for nombre in nombres:\n",
    "    print(f'Hola {n}')"
   ]
  },
  {
   "cell_type": "markdown",
   "metadata": {
    "id": "LpTJRVLuCSsN"
   },
   "source": [
    "***f'Hola {n}*** es una f-string que interpola automáticamente el valor de ***n*** en la cadena. Esto hace que el código sea más conciso y fácil de entender."
   ]
  },
  {
   "cell_type": "markdown",
   "metadata": {
    "id": "bdcq99oG0iM3"
   },
   "source": [
    "## Funciones\n",
    "### Las funciones son bloques de código reutilizables que realizan una tarea específica.\n"
   ]
  },
  {
   "cell_type": "code",
   "execution_count": 134,
   "metadata": {
    "colab": {
     "base_uri": "https://localhost:8080/"
    },
    "executionInfo": {
     "elapsed": 26,
     "status": "ok",
     "timestamp": 1744247483053,
     "user": {
      "displayName": "CEPEDA LEANDRO",
      "userId": "00282923289931954049"
     },
     "user_tz": 180
    },
    "id": "A_p3VH3uyPOL",
    "outputId": "ad67de8d-b94f-4d83-b9ea-da0096d4015c"
   },
   "outputs": [
    {
     "name": "stdout",
     "output_type": "stream",
     "text": [
      "Hola Mundo!\n"
     ]
    }
   ],
   "source": [
    "print(\"Hola Mundo!\")"
   ]
  },
  {
   "cell_type": "code",
   "execution_count": 135,
   "metadata": {
    "executionInfo": {
     "elapsed": 14,
     "status": "ok",
     "timestamp": 1744247484144,
     "user": {
      "displayName": "CEPEDA LEANDRO",
      "userId": "00282923289931954049"
     },
     "user_tz": 180
    },
    "id": "vs4CVbTV0hO9"
   },
   "outputs": [],
   "source": [
    "def saludo(nombre):\n",
    "    print('Hola ' + nombre + '!')"
   ]
  },
  {
   "cell_type": "code",
   "execution_count": 136,
   "metadata": {
    "colab": {
     "base_uri": "https://localhost:8080/"
    },
    "executionInfo": {
     "elapsed": 24,
     "status": "ok",
     "timestamp": 1744247485572,
     "user": {
      "displayName": "CEPEDA LEANDRO",
      "userId": "00282923289931954049"
     },
     "user_tz": 180
    },
    "id": "MAjlrq3fL7B8",
    "outputId": "534e7f0c-eac3-42ec-fa34-344bb3f2b7e6"
   },
   "outputs": [
    {
     "name": "stdout",
     "output_type": "stream",
     "text": [
      "Hola Martin!\n",
      "Hola Kevin!\n"
     ]
    }
   ],
   "source": [
    "saludo(\"Martin\")\n",
    "saludo(\"Kevin\")"
   ]
  },
  {
   "cell_type": "code",
   "execution_count": 137,
   "metadata": {
    "executionInfo": {
     "elapsed": 66,
     "status": "ok",
     "timestamp": 1744247504458,
     "user": {
      "displayName": "CEPEDA LEANDRO",
      "userId": "00282923289931954049"
     },
     "user_tz": 180
    },
    "id": "C1K_moqik0wm"
   },
   "outputs": [],
   "source": [
    "def mi_funcion(miArgumento):\n",
    "    print('Buenas tardes ' + miArgumento.upper() + '!')"
   ]
  },
  {
   "cell_type": "code",
   "execution_count": 138,
   "metadata": {
    "colab": {
     "base_uri": "https://localhost:8080/"
    },
    "executionInfo": {
     "elapsed": 6,
     "status": "ok",
     "timestamp": 1744247506581,
     "user": {
      "displayName": "CEPEDA LEANDRO",
      "userId": "00282923289931954049"
     },
     "user_tz": 180
    },
    "id": "JZXUh5GyzCND",
    "outputId": "aa79115e-e817-4751-ab57-3ba5a3f8f9d7"
   },
   "outputs": [
    {
     "name": "stdout",
     "output_type": "stream",
     "text": [
      "Buenas tardes GUSTAVO!\n"
     ]
    }
   ],
   "source": [
    "mi_funcion(\"Gustavo\")"
   ]
  },
  {
   "cell_type": "code",
   "execution_count": 139,
   "metadata": {
    "colab": {
     "base_uri": "https://localhost:8080/"
    },
    "executionInfo": {
     "elapsed": 7,
     "status": "ok",
     "timestamp": 1744247522981,
     "user": {
      "displayName": "CEPEDA LEANDRO",
      "userId": "00282923289931954049"
     },
     "user_tz": 180
    },
    "id": "5EJN8v67BLVM",
    "outputId": "641eeba3-6d3f-4b95-b8e0-4e5e450dc188"
   },
   "outputs": [
    {
     "name": "stdout",
     "output_type": "stream",
     "text": [
      "10 y 20 son variables\n"
     ]
    }
   ],
   "source": [
    "a = 10\n",
    "b = 20\n",
    "\n",
    "def otraFuncion(argumento):\n",
    "    print(str(a) + ' y ' + str(b) + ' son variables')\n",
    "\n",
    "otraFuncion(\"argumento\")"
   ]
  },
  {
   "cell_type": "markdown",
   "metadata": {
    "id": "8yuRsvlrmkWJ"
   },
   "source": [
    "#Datos"
   ]
  },
  {
   "cell_type": "markdown",
   "metadata": {
    "id": "rx3deLOimoJ4"
   },
   "source": [
    "El tipo de datos que más frecuentemente vamos a utilizar en este curso es el dataframes de Pandas. Un dataframe esencialmente es una tabla con columnas y filas indexadas, de forma tal que podemos acceder fácilmente a filas mediante el índice. También podemos unir, separar o filtrar dataframes trabajando sobre el índice. En general, los dataframes le van a resultar bastante familiares a quienes sepan SQL.\n",
    "\n",
    "Los dataframes pueden tener datos no heterogéneos y además son objetos con métodos útiles para extraer información de forma rápida (por ejemplo, computar histogramas de valores). También es posible convertirlos a arrays de Numpy si así lo necesitamos, aunque no lo vamos a hacer a menos que sea realmente necesario.\n",
    "\n",
    "Una forma de construir dataframes es a partir de diccionarios, de forma tal que asignamos una lista a cada llave, que representa una columna del dataframe:"
   ]
  },
  {
   "cell_type": "code",
   "execution_count": 140,
   "metadata": {
    "colab": {
     "base_uri": "https://localhost:8080/",
     "height": 206
    },
    "executionInfo": {
     "elapsed": 892,
     "status": "ok",
     "timestamp": 1744247645310,
     "user": {
      "displayName": "CEPEDA LEANDRO",
      "userId": "00282923289931954049"
     },
     "user_tz": 180
    },
    "id": "UTnOMmL1fwzk",
    "outputId": "d8b796c4-5769-450a-b7c7-d6f9902c183d"
   },
   "outputs": [
    {
     "data": {
      "application/vnd.google.colaboratory.intrinsic+json": {
       "summary": "{\n  \"name\": \"df\",\n  \"rows\": 5,\n  \"fields\": [\n    {\n      \"column\": \"alumno\",\n      \"properties\": {\n        \"dtype\": \"string\",\n        \"num_unique_values\": 5,\n        \"samples\": [\n          \"Mengano\",\n          \"Maria\",\n          \"Pepe\"\n        ],\n        \"semantic_type\": \"\",\n        \"description\": \"\"\n      }\n    },\n    {\n      \"column\": \"primer parcial\",\n      \"properties\": {\n        \"dtype\": \"number\",\n        \"std\": 2,\n        \"min\": 4,\n        \"max\": 10,\n        \"num_unique_values\": 4,\n        \"samples\": [\n          8,\n          10,\n          7\n        ],\n        \"semantic_type\": \"\",\n        \"description\": \"\"\n      }\n    },\n    {\n      \"column\": \"segundo parcial\",\n      \"properties\": {\n        \"dtype\": \"number\",\n        \"std\": 2,\n        \"min\": 4,\n        \"max\": 10,\n        \"num_unique_values\": 3,\n        \"samples\": [\n          10,\n          9,\n          4\n        ],\n        \"semantic_type\": \"\",\n        \"description\": \"\"\n      }\n    },\n    {\n      \"column\": \"observaciones\",\n      \"properties\": {\n        \"dtype\": \"string\",\n        \"num_unique_values\": 3,\n        \"samples\": [\n          \"ninguna\",\n          \"libre\",\n          \"oyente\"\n        ],\n        \"semantic_type\": \"\",\n        \"description\": \"\"\n      }\n    },\n    {\n      \"column\": \"DNI\",\n      \"properties\": {\n        \"dtype\": \"number\",\n        \"std\": 13588283,\n        \"min\": 1001,\n        \"max\": 30406011,\n        \"num_unique_values\": 5,\n        \"samples\": [\n          12389100,\n          30406011,\n          99999\n        ],\n        \"semantic_type\": \"\",\n        \"description\": \"\"\n      }\n    }\n  ]\n}",
       "type": "dataframe",
       "variable_name": "df"
      },
      "text/html": [
       "\n",
       "  <div id=\"df-7d44e880-52dd-4b8b-97eb-af4b525cc2a8\" class=\"colab-df-container\">\n",
       "    <div>\n",
       "<style scoped>\n",
       "    .dataframe tbody tr th:only-of-type {\n",
       "        vertical-align: middle;\n",
       "    }\n",
       "\n",
       "    .dataframe tbody tr th {\n",
       "        vertical-align: top;\n",
       "    }\n",
       "\n",
       "    .dataframe thead th {\n",
       "        text-align: right;\n",
       "    }\n",
       "</style>\n",
       "<table border=\"1\" class=\"dataframe\">\n",
       "  <thead>\n",
       "    <tr style=\"text-align: right;\">\n",
       "      <th></th>\n",
       "      <th>alumno</th>\n",
       "      <th>primer parcial</th>\n",
       "      <th>segundo parcial</th>\n",
       "      <th>observaciones</th>\n",
       "      <th>DNI</th>\n",
       "    </tr>\n",
       "  </thead>\n",
       "  <tbody>\n",
       "    <tr>\n",
       "      <th>0</th>\n",
       "      <td>Zutano</td>\n",
       "      <td>7</td>\n",
       "      <td>10</td>\n",
       "      <td>ninguna</td>\n",
       "      <td>23000000</td>\n",
       "    </tr>\n",
       "    <tr>\n",
       "      <th>1</th>\n",
       "      <td>Mengano</td>\n",
       "      <td>8</td>\n",
       "      <td>9</td>\n",
       "      <td>libre</td>\n",
       "      <td>12389100</td>\n",
       "    </tr>\n",
       "    <tr>\n",
       "      <th>2</th>\n",
       "      <td>Pepe</td>\n",
       "      <td>7</td>\n",
       "      <td>4</td>\n",
       "      <td>ninguna</td>\n",
       "      <td>99999</td>\n",
       "    </tr>\n",
       "    <tr>\n",
       "      <th>3</th>\n",
       "      <td>Fulanito, Cosme</td>\n",
       "      <td>4</td>\n",
       "      <td>10</td>\n",
       "      <td>libre</td>\n",
       "      <td>1001</td>\n",
       "    </tr>\n",
       "    <tr>\n",
       "      <th>4</th>\n",
       "      <td>Maria</td>\n",
       "      <td>10</td>\n",
       "      <td>10</td>\n",
       "      <td>oyente</td>\n",
       "      <td>30406011</td>\n",
       "    </tr>\n",
       "  </tbody>\n",
       "</table>\n",
       "</div>\n",
       "    <div class=\"colab-df-buttons\">\n",
       "\n",
       "  <div class=\"colab-df-container\">\n",
       "    <button class=\"colab-df-convert\" onclick=\"convertToInteractive('df-7d44e880-52dd-4b8b-97eb-af4b525cc2a8')\"\n",
       "            title=\"Convert this dataframe to an interactive table.\"\n",
       "            style=\"display:none;\">\n",
       "\n",
       "  <svg xmlns=\"http://www.w3.org/2000/svg\" height=\"24px\" viewBox=\"0 -960 960 960\">\n",
       "    <path d=\"M120-120v-720h720v720H120Zm60-500h600v-160H180v160Zm220 220h160v-160H400v160Zm0 220h160v-160H400v160ZM180-400h160v-160H180v160Zm440 0h160v-160H620v160ZM180-180h160v-160H180v160Zm440 0h160v-160H620v160Z\"/>\n",
       "  </svg>\n",
       "    </button>\n",
       "\n",
       "  <style>\n",
       "    .colab-df-container {\n",
       "      display:flex;\n",
       "      gap: 12px;\n",
       "    }\n",
       "\n",
       "    .colab-df-convert {\n",
       "      background-color: #E8F0FE;\n",
       "      border: none;\n",
       "      border-radius: 50%;\n",
       "      cursor: pointer;\n",
       "      display: none;\n",
       "      fill: #1967D2;\n",
       "      height: 32px;\n",
       "      padding: 0 0 0 0;\n",
       "      width: 32px;\n",
       "    }\n",
       "\n",
       "    .colab-df-convert:hover {\n",
       "      background-color: #E2EBFA;\n",
       "      box-shadow: 0px 1px 2px rgba(60, 64, 67, 0.3), 0px 1px 3px 1px rgba(60, 64, 67, 0.15);\n",
       "      fill: #174EA6;\n",
       "    }\n",
       "\n",
       "    .colab-df-buttons div {\n",
       "      margin-bottom: 4px;\n",
       "    }\n",
       "\n",
       "    [theme=dark] .colab-df-convert {\n",
       "      background-color: #3B4455;\n",
       "      fill: #D2E3FC;\n",
       "    }\n",
       "\n",
       "    [theme=dark] .colab-df-convert:hover {\n",
       "      background-color: #434B5C;\n",
       "      box-shadow: 0px 1px 3px 1px rgba(0, 0, 0, 0.15);\n",
       "      filter: drop-shadow(0px 1px 2px rgba(0, 0, 0, 0.3));\n",
       "      fill: #FFFFFF;\n",
       "    }\n",
       "  </style>\n",
       "\n",
       "    <script>\n",
       "      const buttonEl =\n",
       "        document.querySelector('#df-7d44e880-52dd-4b8b-97eb-af4b525cc2a8 button.colab-df-convert');\n",
       "      buttonEl.style.display =\n",
       "        google.colab.kernel.accessAllowed ? 'block' : 'none';\n",
       "\n",
       "      async function convertToInteractive(key) {\n",
       "        const element = document.querySelector('#df-7d44e880-52dd-4b8b-97eb-af4b525cc2a8');\n",
       "        const dataTable =\n",
       "          await google.colab.kernel.invokeFunction('convertToInteractive',\n",
       "                                                    [key], {});\n",
       "        if (!dataTable) return;\n",
       "\n",
       "        const docLinkHtml = 'Like what you see? Visit the ' +\n",
       "          '<a target=\"_blank\" href=https://colab.research.google.com/notebooks/data_table.ipynb>data table notebook</a>'\n",
       "          + ' to learn more about interactive tables.';\n",
       "        element.innerHTML = '';\n",
       "        dataTable['output_type'] = 'display_data';\n",
       "        await google.colab.output.renderOutput(dataTable, element);\n",
       "        const docLink = document.createElement('div');\n",
       "        docLink.innerHTML = docLinkHtml;\n",
       "        element.appendChild(docLink);\n",
       "      }\n",
       "    </script>\n",
       "  </div>\n",
       "\n",
       "\n",
       "<div id=\"df-276528fd-ea72-44ad-895d-8f38f1ac3f6f\">\n",
       "  <button class=\"colab-df-quickchart\" onclick=\"quickchart('df-276528fd-ea72-44ad-895d-8f38f1ac3f6f')\"\n",
       "            title=\"Suggest charts\"\n",
       "            style=\"display:none;\">\n",
       "\n",
       "<svg xmlns=\"http://www.w3.org/2000/svg\" height=\"24px\"viewBox=\"0 0 24 24\"\n",
       "     width=\"24px\">\n",
       "    <g>\n",
       "        <path d=\"M19 3H5c-1.1 0-2 .9-2 2v14c0 1.1.9 2 2 2h14c1.1 0 2-.9 2-2V5c0-1.1-.9-2-2-2zM9 17H7v-7h2v7zm4 0h-2V7h2v10zm4 0h-2v-4h2v4z\"/>\n",
       "    </g>\n",
       "</svg>\n",
       "  </button>\n",
       "\n",
       "<style>\n",
       "  .colab-df-quickchart {\n",
       "      --bg-color: #E8F0FE;\n",
       "      --fill-color: #1967D2;\n",
       "      --hover-bg-color: #E2EBFA;\n",
       "      --hover-fill-color: #174EA6;\n",
       "      --disabled-fill-color: #AAA;\n",
       "      --disabled-bg-color: #DDD;\n",
       "  }\n",
       "\n",
       "  [theme=dark] .colab-df-quickchart {\n",
       "      --bg-color: #3B4455;\n",
       "      --fill-color: #D2E3FC;\n",
       "      --hover-bg-color: #434B5C;\n",
       "      --hover-fill-color: #FFFFFF;\n",
       "      --disabled-bg-color: #3B4455;\n",
       "      --disabled-fill-color: #666;\n",
       "  }\n",
       "\n",
       "  .colab-df-quickchart {\n",
       "    background-color: var(--bg-color);\n",
       "    border: none;\n",
       "    border-radius: 50%;\n",
       "    cursor: pointer;\n",
       "    display: none;\n",
       "    fill: var(--fill-color);\n",
       "    height: 32px;\n",
       "    padding: 0;\n",
       "    width: 32px;\n",
       "  }\n",
       "\n",
       "  .colab-df-quickchart:hover {\n",
       "    background-color: var(--hover-bg-color);\n",
       "    box-shadow: 0 1px 2px rgba(60, 64, 67, 0.3), 0 1px 3px 1px rgba(60, 64, 67, 0.15);\n",
       "    fill: var(--button-hover-fill-color);\n",
       "  }\n",
       "\n",
       "  .colab-df-quickchart-complete:disabled,\n",
       "  .colab-df-quickchart-complete:disabled:hover {\n",
       "    background-color: var(--disabled-bg-color);\n",
       "    fill: var(--disabled-fill-color);\n",
       "    box-shadow: none;\n",
       "  }\n",
       "\n",
       "  .colab-df-spinner {\n",
       "    border: 2px solid var(--fill-color);\n",
       "    border-color: transparent;\n",
       "    border-bottom-color: var(--fill-color);\n",
       "    animation:\n",
       "      spin 1s steps(1) infinite;\n",
       "  }\n",
       "\n",
       "  @keyframes spin {\n",
       "    0% {\n",
       "      border-color: transparent;\n",
       "      border-bottom-color: var(--fill-color);\n",
       "      border-left-color: var(--fill-color);\n",
       "    }\n",
       "    20% {\n",
       "      border-color: transparent;\n",
       "      border-left-color: var(--fill-color);\n",
       "      border-top-color: var(--fill-color);\n",
       "    }\n",
       "    30% {\n",
       "      border-color: transparent;\n",
       "      border-left-color: var(--fill-color);\n",
       "      border-top-color: var(--fill-color);\n",
       "      border-right-color: var(--fill-color);\n",
       "    }\n",
       "    40% {\n",
       "      border-color: transparent;\n",
       "      border-right-color: var(--fill-color);\n",
       "      border-top-color: var(--fill-color);\n",
       "    }\n",
       "    60% {\n",
       "      border-color: transparent;\n",
       "      border-right-color: var(--fill-color);\n",
       "    }\n",
       "    80% {\n",
       "      border-color: transparent;\n",
       "      border-right-color: var(--fill-color);\n",
       "      border-bottom-color: var(--fill-color);\n",
       "    }\n",
       "    90% {\n",
       "      border-color: transparent;\n",
       "      border-bottom-color: var(--fill-color);\n",
       "    }\n",
       "  }\n",
       "</style>\n",
       "\n",
       "  <script>\n",
       "    async function quickchart(key) {\n",
       "      const quickchartButtonEl =\n",
       "        document.querySelector('#' + key + ' button');\n",
       "      quickchartButtonEl.disabled = true;  // To prevent multiple clicks.\n",
       "      quickchartButtonEl.classList.add('colab-df-spinner');\n",
       "      try {\n",
       "        const charts = await google.colab.kernel.invokeFunction(\n",
       "            'suggestCharts', [key], {});\n",
       "      } catch (error) {\n",
       "        console.error('Error during call to suggestCharts:', error);\n",
       "      }\n",
       "      quickchartButtonEl.classList.remove('colab-df-spinner');\n",
       "      quickchartButtonEl.classList.add('colab-df-quickchart-complete');\n",
       "    }\n",
       "    (() => {\n",
       "      let quickchartButtonEl =\n",
       "        document.querySelector('#df-276528fd-ea72-44ad-895d-8f38f1ac3f6f button');\n",
       "      quickchartButtonEl.style.display =\n",
       "        google.colab.kernel.accessAllowed ? 'block' : 'none';\n",
       "    })();\n",
       "  </script>\n",
       "</div>\n",
       "\n",
       "  <div id=\"id_fb8c4af0-56c5-44c4-a9df-a6049dc53f5f\">\n",
       "    <style>\n",
       "      .colab-df-generate {\n",
       "        background-color: #E8F0FE;\n",
       "        border: none;\n",
       "        border-radius: 50%;\n",
       "        cursor: pointer;\n",
       "        display: none;\n",
       "        fill: #1967D2;\n",
       "        height: 32px;\n",
       "        padding: 0 0 0 0;\n",
       "        width: 32px;\n",
       "      }\n",
       "\n",
       "      .colab-df-generate:hover {\n",
       "        background-color: #E2EBFA;\n",
       "        box-shadow: 0px 1px 2px rgba(60, 64, 67, 0.3), 0px 1px 3px 1px rgba(60, 64, 67, 0.15);\n",
       "        fill: #174EA6;\n",
       "      }\n",
       "\n",
       "      [theme=dark] .colab-df-generate {\n",
       "        background-color: #3B4455;\n",
       "        fill: #D2E3FC;\n",
       "      }\n",
       "\n",
       "      [theme=dark] .colab-df-generate:hover {\n",
       "        background-color: #434B5C;\n",
       "        box-shadow: 0px 1px 3px 1px rgba(0, 0, 0, 0.15);\n",
       "        filter: drop-shadow(0px 1px 2px rgba(0, 0, 0, 0.3));\n",
       "        fill: #FFFFFF;\n",
       "      }\n",
       "    </style>\n",
       "    <button class=\"colab-df-generate\" onclick=\"generateWithVariable('df')\"\n",
       "            title=\"Generate code using this dataframe.\"\n",
       "            style=\"display:none;\">\n",
       "\n",
       "  <svg xmlns=\"http://www.w3.org/2000/svg\" height=\"24px\"viewBox=\"0 0 24 24\"\n",
       "       width=\"24px\">\n",
       "    <path d=\"M7,19H8.4L18.45,9,17,7.55,7,17.6ZM5,21V16.75L18.45,3.32a2,2,0,0,1,2.83,0l1.4,1.43a1.91,1.91,0,0,1,.58,1.4,1.91,1.91,0,0,1-.58,1.4L9.25,21ZM18.45,9,17,7.55Zm-12,3A5.31,5.31,0,0,0,4.9,8.1,5.31,5.31,0,0,0,1,6.5,5.31,5.31,0,0,0,4.9,4.9,5.31,5.31,0,0,0,6.5,1,5.31,5.31,0,0,0,8.1,4.9,5.31,5.31,0,0,0,12,6.5,5.46,5.46,0,0,0,6.5,12Z\"/>\n",
       "  </svg>\n",
       "    </button>\n",
       "    <script>\n",
       "      (() => {\n",
       "      const buttonEl =\n",
       "        document.querySelector('#id_fb8c4af0-56c5-44c4-a9df-a6049dc53f5f button.colab-df-generate');\n",
       "      buttonEl.style.display =\n",
       "        google.colab.kernel.accessAllowed ? 'block' : 'none';\n",
       "\n",
       "      buttonEl.onclick = () => {\n",
       "        google.colab.notebook.generateWithVariable('df');\n",
       "      }\n",
       "      })();\n",
       "    </script>\n",
       "  </div>\n",
       "\n",
       "    </div>\n",
       "  </div>\n"
      ],
      "text/plain": [
       "            alumno  primer parcial  segundo parcial observaciones       DNI\n",
       "0           Zutano               7               10       ninguna  23000000\n",
       "1          Mengano               8                9         libre  12389100\n",
       "2             Pepe               7                4       ninguna     99999\n",
       "3  Fulanito, Cosme               4               10         libre      1001\n",
       "4            Maria              10               10        oyente  30406011"
      ]
     },
     "execution_count": 140,
     "metadata": {},
     "output_type": "execute_result"
    }
   ],
   "source": [
    "datos = {'alumno': ['Zutano', 'Mengano', 'Pepe' ,'Fulanito, Cosme', 'Maria'], 'primer parcial': [7, 8,7,4, 10], 'segundo parcial': [10,9,4,10,10], 'observaciones':['ninguna','libre','ninguna','libre','oyente'], 'DNI':[23000000, 12389100, 99999, 1001,30406011]}\n",
    "\n",
    "import pandas as pd\n",
    "\n",
    "df = pd.DataFrame(datos)\n",
    "\n",
    "df"
   ]
  },
  {
   "cell_type": "markdown",
   "metadata": {
    "id": "ZOKjN7B0m2Xu"
   },
   "source": [
    "Vemos que las filas están identificadas con números (0,1,2). Esos números corresponden al índice (index). Podemos obtener las columnas y el índice de un dataframe como listas usando los siguientes métodos:"
   ]
  },
  {
   "cell_type": "code",
   "execution_count": null,
   "metadata": {
    "id": "KIsVazJHm3Pf"
   },
   "outputs": [],
   "source": [
    "print(list(df.columns))\n",
    "print(list(df.index))"
   ]
  },
  {
   "cell_type": "markdown",
   "metadata": {
    "id": "bCuWDSsym9_4"
   },
   "source": [
    "Podemos ademas seleccionar una columna del dataframe como si se tratase de un diccionario. El objeto resultante se llama \"series\":"
   ]
  },
  {
   "cell_type": "code",
   "execution_count": null,
   "metadata": {
    "id": "-0qSWZaum-wK"
   },
   "outputs": [],
   "source": [
    "print(type(df))\n",
    "print(df['alumno'])\n",
    "print(type(df['alumno']))"
   ]
  },
  {
   "cell_type": "markdown",
   "metadata": {
    "id": "73ltMi4wnQAt"
   },
   "source": [
    "Para obtener files en vez de columnas, podemos usar el método df.loc con una lista de los índices que queremos acceder:"
   ]
  },
  {
   "cell_type": "code",
   "execution_count": null,
   "metadata": {
    "id": "24a40cYnnO_q"
   },
   "outputs": [],
   "source": [
    "df.loc[2]"
   ]
  },
  {
   "cell_type": "markdown",
   "metadata": {
    "id": "x1TMJu-vnVJL"
   },
   "source": [
    "O bien:"
   ]
  },
  {
   "cell_type": "code",
   "execution_count": null,
   "metadata": {
    "id": "feB7nMvUnVaS"
   },
   "outputs": [],
   "source": [
    "df.loc[2:4]"
   ]
  }
 ],
 "metadata": {
  "colab": {
   "provenance": [
    {
     "file_id": "1GfhxQFuXQ1WcfK9Cirgiet4QAEHh91MY",
     "timestamp": 1731618804657
    },
    {
     "file_id": "1G_5rxZxCVZf8W34OIBQnzC3UVb4RBJ6V",
     "timestamp": 1730658982775
    },
    {
     "file_id": "1581fREVTLYmnmlFCpLSYZocg2JxGzOs2",
     "timestamp": 1724105960367
    },
    {
     "file_id": "11WsR3cv1PheyTo8_WzYYXxZnLMma9LRV",
     "timestamp": 1710371976765
    },
    {
     "file_id": "1D40Dv4HyaZIHxj4kKqnhPLD8LP4f2RDE",
     "timestamp": 1698776045932
    },
    {
     "file_id": "1-GTePghhniaA6p6IwPuviCoqNMtoq61n",
     "timestamp": 1696352243740
    },
    {
     "file_id": "1lgpWaTHCDkROzLgaL8c4kXS2dAkpxx4o",
     "timestamp": 1696350719468
    }
   ]
  },
  "kernelspec": {
   "display_name": "Python 3 (ipykernel)",
   "language": "python",
   "name": "python3"
  },
  "language_info": {
   "codemirror_mode": {
    "name": "ipython",
    "version": 3
   },
   "file_extension": ".py",
   "mimetype": "text/x-python",
   "name": "python",
   "nbconvert_exporter": "python",
   "pygments_lexer": "ipython3",
   "version": "3.13.2"
  }
 },
 "nbformat": 4,
 "nbformat_minor": 4
}
